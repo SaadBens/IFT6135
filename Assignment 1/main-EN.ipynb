{
 "cells": [
  {
   "cell_type": "markdown",
   "metadata": {
    "id": "zCwYnOWI0K5G"
   },
   "source": [
    "# Genetics Application\n",
    "\n",
    "For this set of questions, we will explore the use of Convolutional Neural Networks to solve a problem with Biological significance (don't worry, no background knowledge is expected). Every cell in your body contains Deoxyribonucleic acid (DNA), which is essentially the instructions for making all the proteins in your body. DNA can be thought of as a very long string where the alphabet is \\{A,C,T,G\\}.\n",
    "The physical attributes of the DNA string and its characters are not important here, except that ~98% of our DNA is physically inaccessible to external molecules. Understanding which regions of DNA are accessible and why is of great interest to scientists. This motivates learning predictive models which could accurately classify such regions. In particular, we will be implementing the deep network called [Basset](https://pubmed.ncbi.nlm.nih.gov/27197224/).\n"
   ]
  },
  {
   "cell_type": "code",
   "execution_count": 1,
   "metadata": {
    "colab": {
     "base_uri": "https://localhost:8080/"
    },
    "executionInfo": {
     "elapsed": 99805,
     "status": "ok",
     "timestamp": 1646257181702,
     "user": {
      "displayName": "Saad Benslimane",
      "photoUrl": "https://lh3.googleusercontent.com/a-/AOh14GjZ_IarygbEoxh5KXQvUNwrzvUtcbvIXZ0sbKdFAA=s64",
      "userId": "09951197489881515608"
     },
     "user_tz": 300
    },
    "id": "BB1odRcEQdHp",
    "outputId": "f2ef6423-f255-43ab-9200-4d4520671974"
   },
   "outputs": [
    {
     "name": "stdout",
     "output_type": "stream",
     "text": [
      "Mounted at /content/gdrive\n"
     ]
    }
   ],
   "source": [
    "#@title Mount your Google Drive\n",
    "%matplotlib inline\n",
    "%load_ext autoreload\n",
    "%autoreload 2\n",
    "\n",
    "from google.colab import drive\n",
    "drive.mount('/content/gdrive')"
   ]
  },
  {
   "cell_type": "code",
   "execution_count": 2,
   "metadata": {
    "colab": {
     "base_uri": "https://localhost:8080/"
    },
    "executionInfo": {
     "elapsed": 89393,
     "status": "ok",
     "timestamp": 1646257271091,
     "user": {
      "displayName": "Saad Benslimane",
      "photoUrl": "https://lh3.googleusercontent.com/a-/AOh14GjZ_IarygbEoxh5KXQvUNwrzvUtcbvIXZ0sbKdFAA=s64",
      "userId": "09951197489881515608"
     },
     "user_tz": 300
    },
    "id": "Pml4PO8l0YWk",
    "outputId": "0c44e81b-c01c-463e-abcf-0d56c41ece29"
   },
   "outputs": [
    {
     "name": "stdout",
     "output_type": "stream",
     "text": [
      "\u001b[K     |████████████████████████████████| 776.7 MB 4.2 kB/s \n",
      "\u001b[K     |████████████████████████████████| 2.9 MB 73.5 MB/s \n",
      "\u001b[?25h  Building wheel for h5df (setup.py) ... \u001b[?25l\u001b[?25hdone\n",
      "\u001b[31mERROR: pip's dependency resolver does not currently take into account all the packages that are installed. This behaviour is the source of the following dependency conflicts.\n",
      "tensorflow 2.8.0 requires tf-estimator-nightly==2.8.0.dev2021122109, which is not installed.\n",
      "torchvision 0.11.1+cu111 requires torch==1.10.0, but you have torch 1.7.0 which is incompatible.\n",
      "torchtext 0.11.0 requires torch==1.10.0, but you have torch 1.7.0 which is incompatible.\n",
      "torchaudio 0.10.0+cu111 requires torch==1.10.0, but you have torch 1.7.0 which is incompatible.\u001b[0m\n"
     ]
    }
   ],
   "source": [
    "#@title Link your assignment folder & install requirements\n",
    "#@markdown Enter the path to the assignment folder in your Google Drive\n",
    "import sys\n",
    "import os\n",
    "import shutil\n",
    "import warnings\n",
    "\n",
    "folder = \"/content/gdrive/MyDrive/A1\" #@param {type:\"string\"}\n",
    "!ln -Ts $folder /content/A1 2> /dev/null\n",
    "\n",
    "# Add the assignment folder to Python path\n",
    "if '/content/A1' not in sys.path:\n",
    "    sys.path.insert(0, '/content/A1')\n",
    "\n",
    "# Install requirements\n",
    "!pip install -qr /content/A1/requirements.txt\n",
    "\n",
    "# Check if CUDA is available\n",
    "import torch\n",
    "if not torch.cuda.is_available():\n",
    "    warnings.warn('CUDA is not available.')"
   ]
  },
  {
   "cell_type": "code",
   "execution_count": 3,
   "metadata": {
    "executionInfo": {
     "elapsed": 34586,
     "status": "ok",
     "timestamp": 1646257305670,
     "user": {
      "displayName": "Saad Benslimane",
      "photoUrl": "https://lh3.googleusercontent.com/a-/AOh14GjZ_IarygbEoxh5KXQvUNwrzvUtcbvIXZ0sbKdFAA=s64",
      "userId": "09951197489881515608"
     },
     "user_tz": 300
    },
    "id": "dtoPVSqz48lX"
   },
   "outputs": [],
   "source": [
    "# unzip data\n",
    "if not os.path.exists('/content/A1/1er.h5'):\n",
    "    os.system('unzip /content/A1/er.zip')\n",
    "    os.system('mv /content/er.h5 /content/A1/er.h5')"
   ]
  },
  {
   "cell_type": "markdown",
   "metadata": {
    "id": "vzCmch4U1nn7"
   },
   "source": [
    "## Running on GPU\n",
    "In Google Colab, you can run your code on GPU. This will be particularly important in CNN part of the assignment. To make sure the notebook is running on GPU, you can change the notebook settings with\n",
    "* (EN) `Edit > Notebook Settings`\n",
    "* (FR) `Modifier > Paramètres du notebook`\n",
    "\n",
    "Be mindful not to use the GPU if your code does not need to run on GPU."
   ]
  },
  {
   "cell_type": "code",
   "execution_count": 4,
   "metadata": {
    "executionInfo": {
     "elapsed": 1815,
     "status": "ok",
     "timestamp": 1646257307476,
     "user": {
      "displayName": "Saad Benslimane",
      "photoUrl": "https://lh3.googleusercontent.com/a-/AOh14GjZ_IarygbEoxh5KXQvUNwrzvUtcbvIXZ0sbKdFAA=s64",
      "userId": "09951197489881515608"
     },
     "user_tz": 300
    },
    "id": "sdRulajo1yNM"
   },
   "outputs": [],
   "source": [
    "import random\n",
    "\n",
    "import numpy as np\n",
    "import h5py\n",
    "from torch.utils.data import Dataset, DataLoader\n",
    "import torch.optim as optim\n",
    "\n",
    "import solution"
   ]
  },
  {
   "cell_type": "code",
   "execution_count": 45,
   "metadata": {
    "executionInfo": {
     "elapsed": 160,
     "status": "ok",
     "timestamp": 1646264638689,
     "user": {
      "displayName": "Saad Benslimane",
      "photoUrl": "https://lh3.googleusercontent.com/a-/AOh14GjZ_IarygbEoxh5KXQvUNwrzvUtcbvIXZ0sbKdFAA=s64",
      "userId": "09951197489881515608"
     },
     "user_tz": 300
    },
    "id": "S1Fl3O998HzR"
   },
   "outputs": [],
   "source": [
    "# The hyperparameters we will use\n",
    "batch_size = 64\n",
    "learning_rate = 0.01"
   ]
  },
  {
   "cell_type": "code",
   "execution_count": 46,
   "metadata": {
    "executionInfo": {
     "elapsed": 2,
     "status": "ok",
     "timestamp": 1646264639056,
     "user": {
      "displayName": "Saad Benslimane",
      "photoUrl": "https://lh3.googleusercontent.com/a-/AOh14GjZ_IarygbEoxh5KXQvUNwrzvUtcbvIXZ0sbKdFAA=s64",
      "userId": "09951197489881515608"
     },
     "user_tz": 300
    },
    "id": "FJhundfW8OAK"
   },
   "outputs": [],
   "source": [
    "device = torch.device(\"cuda\" if torch.cuda.is_available() else \"cpu\")\n",
    "\n",
    "# set RNG\n",
    "seed = 42\n",
    "torch.backends.cudnn.deterministic = True\n",
    "torch.manual_seed(seed)\n",
    "np.random.seed(seed)\n",
    "random.seed(seed)\n",
    "if device.type=='cuda':\n",
    "    torch.cuda.manual_seed(seed)\n",
    "    torch.cuda.manual_seed_all(seed)"
   ]
  },
  {
   "cell_type": "markdown",
   "metadata": {
    "id": "Dzm7-Yyk7X8z"
   },
   "source": [
    "Let's build the dataset that we will be using. Before doing any machine learning, you should always inspect the data you will be using (especially when that data is uncommon)!\n",
    "\n",
    "In our case, the input data are subsequences of DNA that come from the reference human genome HG19. HG19 can be thought of as the DNA of a prototypical human (but it does not come from any single person).\n",
    "The input data is one-hot encoded, such that:\n",
    "\n",
    "$$A = \\begin{pmatrix} 1 \\\\ 0 \\\\ 0 \\\\ 0 \\end{pmatrix}, C = \\begin{pmatrix} 0 \\\\ 1 \\\\ 0 \\\\ 0 \\end{pmatrix}, G = \\begin{pmatrix} 0 \\\\ 0 \\\\ 1 \\\\ 0 \\end{pmatrix}, T = \\begin{pmatrix} 0 \\\\ 0 \\\\ 0 \\\\ 1 \\end{pmatrix}$$\n",
    "\n",
    "Each base-pair $\\{A,C,G,T\\}$ are concatenated along the length of the sequence. Each data point is equivalent to an image with a rectangular shape (sequence length, 4) and a single channel for data processing purposes.\n",
    "\n",
    "The target data for our sequence are binary strings encoded as $1$ if the DNA subsequence is accessible and $0$ if it is not. This data was collected across experiments. For each sample, the target is a vector of size 164, with $1$s in the indices of the experiments where the DNA is accessible and $0$ otherwise."
   ]
  },
  {
   "cell_type": "markdown",
   "metadata": {
    "id": "SdpfDXxoV20M"
   },
   "source": [
    "# **Question 1 (Understanding the Data)** \n",
    "(10 points). You will notice that PyTorch is very object-oriented -- everything you use is the subclass of a PyTorch class. For datasets, we subclass `torch.utils.data.Dataset`.\n",
    "\n",
    "1. Define the `__getitem__` and `__len__` methods for the `BassetDataset` class in `solution.py`\n",
    "2. What is the length of each sequence we will feed into our model?  Make the `get_seq_len` method of the `BassetDataset` class to return it.\n",
    "3. Is it true that each data point is also equivalent to an image with a rectangular shape (1, sequence length) with 4 channels? Write the method `is_equvalent` to return your answer (either return True or False).\n",
    "\n",
    "Note: this data has already been pre-processed, so do not include any additional data transformations!"
   ]
  },
  {
   "cell_type": "code",
   "execution_count": 47,
   "metadata": {
    "executionInfo": {
     "elapsed": 197,
     "status": "ok",
     "timestamp": 1646264641240,
     "user": {
      "displayName": "Saad Benslimane",
      "photoUrl": "https://lh3.googleusercontent.com/a-/AOh14GjZ_IarygbEoxh5KXQvUNwrzvUtcbvIXZ0sbKdFAA=s64",
      "userId": "09951197489881515608"
     },
     "user_tz": 300
    },
    "id": "mDmrenF07TwY"
   },
   "outputs": [],
   "source": [
    "# investigate your data\n",
    "f = h5py.File('/content/A1/er.h5', 'r')\n",
    "f.keys()\n",
    "f.close()"
   ]
  },
  {
   "cell_type": "code",
   "execution_count": 48,
   "metadata": {
    "executionInfo": {
     "elapsed": 1,
     "status": "ok",
     "timestamp": 1646264641522,
     "user": {
      "displayName": "Saad Benslimane",
      "photoUrl": "https://lh3.googleusercontent.com/a-/AOh14GjZ_IarygbEoxh5KXQvUNwrzvUtcbvIXZ0sbKdFAA=s64",
      "userId": "09951197489881515608"
     },
     "user_tz": 300
    },
    "id": "v2P1XHMAMZD4"
   },
   "outputs": [],
   "source": [
    "basset_dataset_train = solution.BassetDataset(path='/content/A1', f5name='er.h5', split='train')\n",
    "basset_dataset_valid = solution.BassetDataset(path='/content/A1', f5name='er.h5', split='valid')\n",
    "basset_dataset_test = solution.BassetDataset(path='/content/A1', f5name='er.h5', split='test')\n",
    "basset_dataloader_train = DataLoader(basset_dataset_train,\n",
    "                                     batch_size=batch_size,\n",
    "                                     drop_last=True,\n",
    "                                     shuffle=True,\n",
    "                                     num_workers=1)\n",
    "basset_dataloader_valid = DataLoader(basset_dataset_valid,\n",
    "                                     batch_size=batch_size,\n",
    "                                     drop_last=True,\n",
    "                                     shuffle=False,\n",
    "                                     num_workers=1)\n",
    "basset_dataloader_test = DataLoader(basset_dataset_test,\n",
    "                                    batch_size=batch_size,\n",
    "                                    drop_last=True,\n",
    "                                    shuffle=False,\n",
    "                                    num_workers=1)"
   ]
  },
  {
   "cell_type": "markdown",
   "metadata": {
    "id": "ZFH5c18f89_Y"
   },
   "source": [
    "# **Question 2 (Building the Network)** \n",
    "(15 points). PyTorch also provides an abstraction for differentiable models: `torch.nn.Module`. In `solution.py`, we define Basset as a subclass of this class.\n",
    "\n",
    "1. Fill in the missing values denoted as `?` within the class definition using [supplementary figure 13](https://genome.cshlp.org/content/suppl/2016/06/10/gr.200535.115.DC1/Supplementary_Figures.pdf) and convolution arithmetic.\n",
    "2. Write the `forward` pass function. Again, please refer to [supplementary figure 13](https://genome.cshlp.org/content/suppl/2016/06/10/gr.200535.115.DC1/Supplementary_Figures.pdf).\n",
    "\n",
    "  Do not include any output activation in your forward method! In practice, it is better to use a loss function that has the output activation built-in."
   ]
  },
  {
   "cell_type": "code",
   "execution_count": 56,
   "metadata": {
    "executionInfo": {
     "elapsed": 156,
     "status": "ok",
     "timestamp": 1646265040469,
     "user": {
      "displayName": "Saad Benslimane",
      "photoUrl": "https://lh3.googleusercontent.com/a-/AOh14GjZ_IarygbEoxh5KXQvUNwrzvUtcbvIXZ0sbKdFAA=s64",
      "userId": "09951197489881515608"
     },
     "user_tz": 300
    },
    "id": "8EFHMkC6RGG3"
   },
   "outputs": [],
   "source": [
    "model = solution.Basset().to(device)"
   ]
  },
  {
   "cell_type": "markdown",
   "metadata": {
    "id": "tpHfTqxhYER_"
   },
   "source": [
    "# **Question 3 (Area Under the Curve)** \n",
    "(25 points). Each DNA sequence is either exposed (we'll call this the positive case) or not (we'll call this the negative case). The output of our model should be used to return a binary decision about the sequence.\n",
    "\n",
    "For a given case, we say that our model made a positive prediction whenever its output value is above some threshold $k$, and a negative prediction otherwise.\n",
    "\n",
    "Define the *True Positive Rate* (TPR) as the number of correctly prediced positive cases divided by the number of positive cases. Define the *False Positive Rate* (FPR) as the  number of cases that were incorrectly predicted as positive divided by the number of negative cases.\n",
    "\n",
    "1. Complete the function `compute_fpr_tpr` in `solution.py`. This code will compute the TPR and FPR given your models decisions and the true targets.\n",
    "\n",
    "2. Your FPR and TPR change as a function of $k$. Specifically, we can plot the FPR on the x-axis and the TPR on the y-axis for different values of $k$. The shape of the resulting curve (ROC curve) tells us something about our classifiers performance. We will explore via simulation what this plot looks like when our model is just making random guesses. In `solution.py`, fill in the function `compute_fpr_tpr_dumb_model`. This function will generate 1000 binary random variables to use as targets and 1000 uniform random variables between 0 and 1 as our model predictions. It will then compute the fpr and tpr for $k\\in \\{0, 0.05,..., 0.95\\}$ You should plot what the ROC curves look like for your own knowledge."
   ]
  },
  {
   "cell_type": "code",
   "execution_count": null,
   "metadata": {
    "id": "u_ewjBEFw-Gr"
   },
   "outputs": [],
   "source": [
    "dumb_output = solution.compute_fpr_tpr_dumb_model()"
   ]
  },
  {
   "cell_type": "markdown",
   "metadata": {
    "id": "3cWBplcrw8wl"
   },
   "source": [
    "3. We will now simulate a better model. In `solution.py`, fill in the function `compute_fpr_tpr_smart_model`. This will simulate 1000 targets the same way as before. However, this will simulate model outputs as uniform random variables between 0.4 and 1 for the positive cases. For the negative cases, simulate uniform random variables between 0 and 0.6. Compute the tpr and fpr varying $k$ like before. You should also look at the ROC curve."
   ]
  },
  {
   "cell_type": "code",
   "execution_count": null,
   "metadata": {
    "id": "_Vdr40asxBUu"
   },
   "outputs": [],
   "source": [
    "smart_output = solution.compute_fpr_tpr_smart_model()"
   ]
  },
  {
   "cell_type": "code",
   "execution_count": null,
   "metadata": {
    "colab": {
     "base_uri": "https://localhost:8080/",
     "height": 627
    },
    "executionInfo": {
     "elapsed": 475,
     "status": "ok",
     "timestamp": 1646191631965,
     "user": {
      "displayName": "Saad Benslimane",
      "photoUrl": "https://lh3.googleusercontent.com/a-/AOh14GjZ_IarygbEoxh5KXQvUNwrzvUtcbvIXZ0sbKdFAA=s64",
      "userId": "09951197489881515608"
     },
     "user_tz": 300
    },
    "id": "ZcuJ410Qd2UK",
    "outputId": "6963abb8-91ea-488a-8533-f59233e37fed"
   },
   "outputs": [
    {
     "data": {
      "image/png": "[encoded data removed]",
      "text/plain": [
       "<Figure size 720x720 with 1 Axes>"
      ]
     },
     "metadata": {
      "needs_background": "light"
     },
     "output_type": "display_data"
    }
   ],
   "source": [
    "import matplotlib.pyplot as plt\n",
    "\n",
    "# Plotting the ROC curves\n",
    "f,ax = plt.subplots(figsize = (10,10))\n",
    "plt.plot(dumb_output['fpr_list'], dumb_output['tpr_list'], label='dumb model', color=\"blue\")\n",
    "plt.plot(smart_output['fpr_list'], smart_output['tpr_list'], label='smart model', color=\"red\")\n",
    "plt.xlabel(\"FPR\", fontsize = 15)\n",
    "plt.ylabel(\"TPR\", fontsize = 15)\n",
    "plt.title(\"ROC curve for dumb and smart model\", fontsize = 15)\n",
    "plt.legend()\n",
    "plt.show()"
   ]
  },
  {
   "cell_type": "markdown",
   "metadata": {
    "id": "0-rqX9_UxBkK"
   },
   "source": [
    "4. The Area Under the ROC Curve (AUC) summarizes the ROC plot as a single number. It is literally computed as the area under the the ROC curve (take the average of the left and right Reimann sums). Complete the function `utils.compute_auc`. Then, in `compute_auc_both_models`, recreate the dumb and smart models from parts 2 and 3 and compute the AUC of them."
   ]
  },
  {
   "cell_type": "code",
   "execution_count": null,
   "metadata": {
    "colab": {
     "base_uri": "https://localhost:8080/"
    },
    "executionInfo": {
     "elapsed": 11,
     "status": "ok",
     "timestamp": 1646191631966,
     "user": {
      "displayName": "Saad Benslimane",
      "photoUrl": "https://lh3.googleusercontent.com/a-/AOh14GjZ_IarygbEoxh5KXQvUNwrzvUtcbvIXZ0sbKdFAA=s64",
      "userId": "09951197489881515608"
     },
     "user_tz": 300
    },
    "id": "cvyUIbsBxDSO",
    "outputId": "95df6554-74d0-4a33-fd10-4655d48dbe87"
   },
   "outputs": [
    {
     "data": {
      "text/plain": [
       "{'auc_dumb_model': 0.46418066344110553, 'auc_smart_model': 0.948607125848911}"
      ]
     },
     "execution_count": 13,
     "metadata": {},
     "output_type": "execute_result"
    }
   ],
   "source": [
    "solution.compute_auc_both_models()"
   ]
  },
  {
   "cell_type": "markdown",
   "metadata": {
    "id": "EUDMl_NaxDjV"
   },
   "source": [
    "5. Complete the function `compute_auc_untrained_model`, which will compute the AUC of your untrained model.\n",
    "\n",
    "    Note: since we are doing multi-task prediction, your model outputs and targets will have shape (Batch size, Num targets). Flatten these matrices so that they are two vectors, each of size Batch size * Num targets.\n",
    "    Then, procede with AUC as if you were in the usual single task case..."
   ]
  },
  {
   "cell_type": "code",
   "execution_count": null,
   "metadata": {
    "colab": {
     "base_uri": "https://localhost:8080/"
    },
    "executionInfo": {
     "elapsed": 45235,
     "status": "ok",
     "timestamp": 1646191677195,
     "user": {
      "displayName": "Saad Benslimane",
      "photoUrl": "https://lh3.googleusercontent.com/a-/AOh14GjZ_IarygbEoxh5KXQvUNwrzvUtcbvIXZ0sbKdFAA=s64",
      "userId": "09951197489881515608"
     },
     "user_tz": 300
    },
    "id": "-yJn7gvzxEQT",
    "outputId": "4579ca3b-0dc1-41d7-fe0d-dac611763968"
   },
   "outputs": [
    {
     "data": {
      "text/plain": [
       "{'auc': 0.5046602551293573}"
      ]
     },
     "execution_count": 14,
     "metadata": {},
     "output_type": "execute_result"
    }
   ],
   "source": [
    "solution.compute_auc_untrained_model(model, basset_dataloader_test, device)"
   ]
  },
  {
   "cell_type": "markdown",
   "metadata": {
    "id": "OXNicb2xL6_k"
   },
   "source": [
    "# **Question 4 (Training the Network)**\n",
    "(20 points) We will now write the training loop for Basset.\n",
    "\n",
    "1. Notice that for each input, we have one target per experiment, and each target is binary. Write the function `get_critereon`, which will pick the appropriate `loss` function. \n",
    "\n",
    "  Hint: you may consult the [relevant PyTorch documentation](https://pytorch.org/docs/stable/nn.html#loss-functions)\n",
    "\n"
   ]
  },
  {
   "cell_type": "code",
   "execution_count": 57,
   "metadata": {
    "executionInfo": {
     "elapsed": 212,
     "status": "ok",
     "timestamp": 1646265045395,
     "user": {
      "displayName": "Saad Benslimane",
      "photoUrl": "https://lh3.googleusercontent.com/a-/AOh14GjZ_IarygbEoxh5KXQvUNwrzvUtcbvIXZ0sbKdFAA=s64",
      "userId": "09951197489881515608"
     },
     "user_tz": 300
    },
    "id": "fiOOMTfRaz60"
   },
   "outputs": [],
   "source": [
    "criterion = solution.get_critereon()"
   ]
  },
  {
   "cell_type": "markdown",
   "metadata": {
    "id": "9y8MvhYcaZ4X"
   },
   "source": [
    "2. Finish the training loop by filling in the missing code for the `train_loop`  pass and `valid_loop` functions in `solution.py.`\n",
    "\n",
    "    Both loops must return the loss and AUC (computed the same way as the previous question). They must be returned by each function (see the docstring for more details)."
   ]
  },
  {
   "cell_type": "code",
   "execution_count": 58,
   "metadata": {
    "colab": {
     "base_uri": "https://localhost:8080/"
    },
    "executionInfo": {
     "elapsed": 1302644,
     "status": "ok",
     "timestamp": 1646266348654,
     "user": {
      "displayName": "Saad Benslimane",
      "photoUrl": "https://lh3.googleusercontent.com/a-/AOh14GjZ_IarygbEoxh5KXQvUNwrzvUtcbvIXZ0sbKdFAA=s64",
      "userId": "09951197489881515608"
     },
     "user_tz": 300
    },
    "id": "KE_ODCimT5n8",
    "outputId": "8dbd2497-76ec-4654-ddc9-f1992a28da2a"
   },
   "outputs": [
    {
     "name": "stdout",
     "output_type": "stream",
     "text": [
      "For 50 batches, score=0.542\n",
      "For 100 batches, score=0.605\n",
      "For 150 batches, score=0.674\n",
      "For 200 batches, score=0.716\n",
      "For 250 batches, score=0.699\n",
      "For 300 batches, score=0.692\n",
      "For 350 batches, score=0.693\n",
      "For 400 batches, score=0.705\n",
      "For 450 batches, score=0.710\n",
      "For 500 batches, score=0.712\n",
      "For 550 batches, score=0.706\n",
      "For 600 batches, score=0.710\n",
      "For 650 batches, score=0.698\n",
      "For 700 batches, score=0.700\n",
      "For 750 batches, score=0.708\n",
      "For 800 batches, score=0.707\n",
      "For 850 batches, score=0.709\n",
      "For 900 batches, score=0.712\n",
      "For 950 batches, score=0.707\n",
      "For 1000 batches, score=0.707\n",
      "For 1050 batches, score=0.707\n",
      "For 1100 batches, score=0.709\n",
      "For 1150 batches, score=0.711\n",
      "For 1200 batches, score=0.707\n",
      "For 1250 batches, score=0.708\n",
      "For 1300 batches, score=0.705\n",
      "For 1350 batches, score=0.703\n",
      "For 1400 batches, score=0.706\n",
      "For 1450 batches, score=0.706\n",
      "For 1500 batches, score=0.704\n",
      "For 1550 batches, score=0.705\n",
      "For 1600 batches, score=0.705\n",
      "For 1650 batches, score=0.702\n",
      "For 1700 batches, score=0.704\n",
      "For 1750 batches, score=0.703\n",
      "For 1800 batches, score=0.707\n",
      "For 1850 batches, score=0.707\n",
      "For 1900 batches, score=0.708\n",
      "For 1950 batches, score=0.709\n",
      "For 2000 batches, score=0.708\n",
      "For 2050 batches, score=0.709\n",
      "For 2100 batches, score=0.709\n",
      "For 2150 batches, score=0.709\n",
      "For 2200 batches, score=0.710\n",
      "For 2250 batches, score=0.713\n",
      "For 2300 batches, score=0.714\n",
      "For 2350 batches, score=0.716\n",
      "For 2400 batches, score=0.718\n",
      "For 2450 batches, score=0.720\n",
      "For 2500 batches, score=0.719\n",
      "For 2550 batches, score=0.719\n",
      "For 2600 batches, score=0.717\n",
      "For 2650 batches, score=0.718\n",
      "For 2700 batches, score=0.720\n",
      "For 2750 batches, score=0.720\n",
      "For 2800 batches, score=0.721\n",
      "For 2850 batches, score=0.721\n",
      "For 2900 batches, score=0.723\n",
      "For 2950 batches, score=0.723\n",
      "For 3000 batches, score=0.722\n",
      "For 3050 batches, score=0.723\n",
      "For 3100 batches, score=0.724\n",
      "For 3150 batches, score=0.725\n",
      "For 3200 batches, score=0.728\n",
      "For 3250 batches, score=0.728\n",
      "For 3300 batches, score=0.729\n",
      "For 3350 batches, score=0.729\n",
      "For 3400 batches, score=0.727\n",
      "For 3450 batches, score=0.729\n",
      "For 3500 batches, score=0.731\n",
      "For 3550 batches, score=0.730\n",
      "For 3600 batches, score=0.731\n",
      "For 3650 batches, score=0.733\n",
      "For 3700 batches, score=0.733\n",
      "For 3750 batches, score=0.734\n",
      "For 3800 batches, score=0.734\n",
      "For 3850 batches, score=0.734\n",
      "For 3900 batches, score=0.735\n",
      "For 3950 batches, score=0.735\n",
      "For 4000 batches, score=0.737\n",
      "For 4050 batches, score=0.737\n",
      "For 4100 batches, score=0.737\n",
      "For 4150 batches, score=0.738\n",
      "For 4200 batches, score=0.740\n",
      "For 4250 batches, score=0.740\n",
      "For 4300 batches, score=0.742\n",
      "For 4350 batches, score=0.743\n",
      "For 4400 batches, score=0.744\n",
      "For 4450 batches, score=0.743\n",
      "For 4500 batches, score=0.742\n",
      "For 4550 batches, score=0.743\n",
      "For 4600 batches, score=0.744\n",
      "For 4650 batches, score=0.744\n",
      "For 4700 batches, score=0.744\n",
      "For 4750 batches, score=0.744\n",
      "For 4800 batches, score=0.744\n",
      "For 4850 batches, score=0.745\n",
      "For 4900 batches, score=0.745\n",
      "For 4950 batches, score=0.745\n",
      "For 5000 batches, score=0.745\n",
      "For 5050 batches, score=0.744\n",
      "For 5100 batches, score=0.745\n",
      "For 5150 batches, score=0.746\n",
      "For 5200 batches, score=0.747\n",
      "For 5250 batches, score=0.749\n",
      "For 5300 batches, score=0.749\n",
      "For 5350 batches, score=0.750\n",
      "For 5400 batches, score=0.751\n",
      "For 5450 batches, score=0.751\n",
      "For 5500 batches, score=0.751\n",
      "For 5550 batches, score=0.752\n",
      "For 5600 batches, score=0.752\n",
      "For 5650 batches, score=0.752\n",
      "For 5700 batches, score=0.753\n",
      "For 5750 batches, score=0.752\n",
      "For 5800 batches, score=0.752\n",
      "For 5850 batches, score=0.752\n",
      "For 5900 batches, score=0.753\n",
      "For 5950 batches, score=0.753\n",
      "For 6000 batches, score=0.753\n",
      "For 6050 batches, score=0.753\n",
      "For 6100 batches, score=0.753\n",
      "For 6150 batches, score=0.754\n",
      "For 6200 batches, score=0.754\n",
      "For 6250 batches, score=0.754\n",
      "For 6300 batches, score=0.755\n",
      "For 6350 batches, score=0.756\n",
      "For 6400 batches, score=0.756\n",
      "For 6450 batches, score=0.756\n",
      "For 6500 batches, score=0.756\n",
      "For 6550 batches, score=0.756\n",
      "For 6600 batches, score=0.757\n",
      "For 6650 batches, score=0.758\n",
      "For 6700 batches, score=0.758\n",
      "For 6750 batches, score=0.758\n",
      "For 6800 batches, score=0.758\n",
      "For 6850 batches, score=0.758\n",
      "For 6900 batches, score=0.759\n",
      "For 6950 batches, score=0.758\n",
      "For 7000 batches, score=0.758\n",
      "For 7050 batches, score=0.759\n",
      "For 7100 batches, score=0.759\n",
      "For 7150 batches, score=0.759\n",
      "For 7200 batches, score=0.758\n",
      "For 7250 batches, score=0.758\n",
      "For 7300 batches, score=0.759\n",
      "For 7350 batches, score=0.758\n",
      "For 7400 batches, score=0.759\n",
      "For 7450 batches, score=0.759\n",
      "For 7500 batches, score=0.760\n",
      "For 7550 batches, score=0.761\n",
      "For 7600 batches, score=0.761\n",
      "For 7650 batches, score=0.762\n",
      "For 7700 batches, score=0.762\n",
      "For 7750 batches, score=0.763\n",
      "For 7800 batches, score=0.763\n",
      "For 7850 batches, score=0.764\n",
      "For 7900 batches, score=0.764\n",
      "For 7950 batches, score=0.765\n",
      "For 8000 batches, score=0.766\n",
      "For 8050 batches, score=0.766\n",
      "For 8100 batches, score=0.766\n",
      "For 8150 batches, score=0.766\n",
      "For 8200 batches, score=0.767\n",
      "For 8250 batches, score=0.768\n",
      "For 8300 batches, score=0.768\n",
      "epoch 0: loss=0.001 score=0.804\n",
      "Best score: 0.8035987422624021. Saving model...\n",
      "For 50 batches, score=0.896\n",
      "For 100 batches, score=0.742\n",
      "For 150 batches, score=0.760\n",
      "For 200 batches, score=0.803\n",
      "For 250 batches, score=0.799\n",
      "For 300 batches, score=0.795\n",
      "For 350 batches, score=0.804\n",
      "For 400 batches, score=0.802\n",
      "For 450 batches, score=0.799\n",
      "For 500 batches, score=0.796\n",
      "For 550 batches, score=0.794\n",
      "For 600 batches, score=0.791\n",
      "For 650 batches, score=0.794\n",
      "For 700 batches, score=0.796\n",
      "For 750 batches, score=0.795\n",
      "For 800 batches, score=0.799\n",
      "For 850 batches, score=0.799\n",
      "For 900 batches, score=0.797\n",
      "For 950 batches, score=0.797\n",
      "For 1000 batches, score=0.793\n",
      "For 1050 batches, score=0.793\n",
      "For 1100 batches, score=0.795\n",
      "For 1150 batches, score=0.797\n",
      "For 1200 batches, score=0.800\n",
      "For 1250 batches, score=0.800\n",
      "For 1300 batches, score=0.800\n",
      "For 1350 batches, score=0.799\n",
      "For 1400 batches, score=0.801\n",
      "For 1450 batches, score=0.800\n",
      "For 1500 batches, score=0.800\n",
      "For 1550 batches, score=0.803\n",
      "For 1600 batches, score=0.803\n",
      "For 1650 batches, score=0.805\n",
      "For 1700 batches, score=0.805\n",
      "For 1750 batches, score=0.803\n",
      "For 1800 batches, score=0.807\n",
      "For 1850 batches, score=0.807\n",
      "For 1900 batches, score=0.807\n",
      "For 1950 batches, score=0.807\n",
      "For 2000 batches, score=0.808\n",
      "For 2050 batches, score=0.808\n",
      "For 2100 batches, score=0.811\n",
      "For 2150 batches, score=0.812\n",
      "For 2200 batches, score=0.813\n",
      "For 2250 batches, score=0.811\n",
      "For 2300 batches, score=0.808\n",
      "For 2350 batches, score=0.809\n",
      "For 2400 batches, score=0.811\n",
      "For 2450 batches, score=0.810\n",
      "For 2500 batches, score=0.811\n",
      "For 2550 batches, score=0.811\n",
      "For 2600 batches, score=0.810\n",
      "For 2650 batches, score=0.811\n",
      "For 2700 batches, score=0.811\n",
      "For 2750 batches, score=0.812\n",
      "For 2800 batches, score=0.812\n",
      "For 2850 batches, score=0.811\n",
      "For 2900 batches, score=0.812\n",
      "For 2950 batches, score=0.811\n",
      "For 3000 batches, score=0.812\n",
      "For 3050 batches, score=0.812\n",
      "For 3100 batches, score=0.812\n",
      "For 3150 batches, score=0.811\n",
      "For 3200 batches, score=0.811\n",
      "For 3250 batches, score=0.813\n",
      "For 3300 batches, score=0.813\n",
      "For 3350 batches, score=0.811\n",
      "For 3400 batches, score=0.812\n",
      "For 3450 batches, score=0.812\n",
      "For 3500 batches, score=0.810\n",
      "For 3550 batches, score=0.810\n",
      "For 3600 batches, score=0.811\n",
      "For 3650 batches, score=0.810\n",
      "For 3700 batches, score=0.811\n",
      "For 3750 batches, score=0.811\n",
      "For 3800 batches, score=0.811\n",
      "For 3850 batches, score=0.809\n",
      "For 3900 batches, score=0.811\n",
      "For 3950 batches, score=0.810\n",
      "For 4000 batches, score=0.808\n",
      "For 4050 batches, score=0.809\n",
      "For 4100 batches, score=0.808\n",
      "For 4150 batches, score=0.807\n",
      "For 4200 batches, score=0.807\n",
      "For 4250 batches, score=0.808\n",
      "For 4300 batches, score=0.806\n",
      "For 4350 batches, score=0.808\n",
      "For 4400 batches, score=0.809\n",
      "For 4450 batches, score=0.809\n",
      "For 4500 batches, score=0.809\n",
      "For 4550 batches, score=0.810\n",
      "For 4600 batches, score=0.810\n",
      "For 4650 batches, score=0.811\n",
      "For 4700 batches, score=0.812\n",
      "For 4750 batches, score=0.812\n",
      "For 4800 batches, score=0.812\n",
      "For 4850 batches, score=0.812\n",
      "For 4900 batches, score=0.812\n",
      "For 4950 batches, score=0.813\n",
      "For 5000 batches, score=0.814\n",
      "For 5050 batches, score=0.814\n",
      "For 5100 batches, score=0.813\n",
      "For 5150 batches, score=0.813\n",
      "For 5200 batches, score=0.814\n",
      "For 5250 batches, score=0.815\n",
      "For 5300 batches, score=0.815\n",
      "For 5350 batches, score=0.816\n",
      "For 5400 batches, score=0.815\n",
      "For 5450 batches, score=0.815\n",
      "For 5500 batches, score=0.816\n",
      "For 5550 batches, score=0.815\n",
      "For 5600 batches, score=0.815\n",
      "For 5650 batches, score=0.815\n",
      "For 5700 batches, score=0.815\n",
      "For 5750 batches, score=0.816\n",
      "For 5800 batches, score=0.816\n",
      "For 5850 batches, score=0.817\n",
      "For 5900 batches, score=0.816\n",
      "For 5950 batches, score=0.816\n",
      "For 6000 batches, score=0.816\n",
      "For 6050 batches, score=0.817\n",
      "For 6100 batches, score=0.817\n",
      "For 6150 batches, score=0.817\n",
      "For 6200 batches, score=0.816\n",
      "For 6250 batches, score=0.816\n",
      "For 6300 batches, score=0.817\n",
      "For 6350 batches, score=0.818\n",
      "For 6400 batches, score=0.818\n",
      "For 6450 batches, score=0.818\n",
      "For 6500 batches, score=0.818\n",
      "For 6550 batches, score=0.818\n",
      "For 6600 batches, score=0.819\n",
      "For 6650 batches, score=0.818\n",
      "For 6700 batches, score=0.818\n",
      "For 6750 batches, score=0.818\n",
      "For 6800 batches, score=0.818\n",
      "For 6850 batches, score=0.818\n",
      "For 6900 batches, score=0.819\n",
      "For 6950 batches, score=0.819\n",
      "For 7000 batches, score=0.819\n",
      "For 7050 batches, score=0.819\n",
      "For 7100 batches, score=0.819\n",
      "For 7150 batches, score=0.819\n",
      "For 7200 batches, score=0.819\n",
      "For 7250 batches, score=0.820\n",
      "For 7300 batches, score=0.820\n",
      "For 7350 batches, score=0.820\n",
      "For 7400 batches, score=0.819\n",
      "For 7450 batches, score=0.819\n",
      "For 7500 batches, score=0.818\n",
      "For 7550 batches, score=0.818\n",
      "For 7600 batches, score=0.818\n",
      "For 7650 batches, score=0.818\n",
      "For 7700 batches, score=0.817\n",
      "For 7750 batches, score=0.817\n",
      "For 7800 batches, score=0.817\n",
      "For 7850 batches, score=0.817\n",
      "For 7900 batches, score=0.817\n",
      "For 7950 batches, score=0.818\n",
      "For 8000 batches, score=0.818\n",
      "For 8050 batches, score=0.817\n",
      "For 8100 batches, score=0.818\n",
      "For 8150 batches, score=0.818\n",
      "For 8200 batches, score=0.818\n",
      "For 8250 batches, score=0.818\n",
      "For 8300 batches, score=0.818\n",
      "epoch 1: loss=0.001 score=0.828\n",
      "Best score: 0.8284139737456105. Saving model...\n",
      "For 50 batches, score=0.772\n",
      "For 100 batches, score=0.734\n",
      "For 150 batches, score=0.775\n",
      "For 200 batches, score=0.784\n",
      "For 250 batches, score=0.814\n",
      "For 300 batches, score=0.812\n",
      "For 350 batches, score=0.827\n",
      "For 400 batches, score=0.827\n",
      "For 450 batches, score=0.834\n",
      "For 500 batches, score=0.840\n",
      "For 550 batches, score=0.840\n",
      "For 600 batches, score=0.840\n",
      "For 650 batches, score=0.841\n",
      "For 700 batches, score=0.834\n",
      "For 750 batches, score=0.831\n",
      "For 800 batches, score=0.834\n",
      "For 850 batches, score=0.836\n",
      "For 900 batches, score=0.839\n",
      "For 950 batches, score=0.842\n",
      "For 1000 batches, score=0.840\n",
      "For 1050 batches, score=0.841\n",
      "For 1100 batches, score=0.842\n",
      "For 1150 batches, score=0.842\n",
      "For 1200 batches, score=0.842\n",
      "For 1250 batches, score=0.842\n",
      "For 1300 batches, score=0.846\n",
      "For 1350 batches, score=0.846\n",
      "For 1400 batches, score=0.847\n",
      "For 1450 batches, score=0.845\n",
      "For 1500 batches, score=0.844\n",
      "For 1550 batches, score=0.842\n",
      "For 1600 batches, score=0.841\n",
      "For 1650 batches, score=0.843\n",
      "For 1700 batches, score=0.846\n",
      "For 1750 batches, score=0.841\n",
      "For 1800 batches, score=0.841\n",
      "For 1850 batches, score=0.840\n",
      "For 1900 batches, score=0.842\n",
      "For 1950 batches, score=0.839\n",
      "For 2000 batches, score=0.836\n",
      "For 2050 batches, score=0.835\n",
      "For 2100 batches, score=0.834\n",
      "For 2150 batches, score=0.834\n",
      "For 2200 batches, score=0.834\n",
      "For 2250 batches, score=0.833\n",
      "For 2300 batches, score=0.833\n",
      "For 2350 batches, score=0.832\n",
      "For 2400 batches, score=0.833\n",
      "For 2450 batches, score=0.833\n",
      "For 2500 batches, score=0.832\n",
      "For 2550 batches, score=0.833\n",
      "For 2600 batches, score=0.832\n",
      "For 2650 batches, score=0.831\n",
      "For 2700 batches, score=0.832\n",
      "For 2750 batches, score=0.831\n",
      "For 2800 batches, score=0.832\n",
      "For 2850 batches, score=0.833\n",
      "For 2900 batches, score=0.833\n",
      "For 2950 batches, score=0.834\n",
      "For 3000 batches, score=0.836\n",
      "For 3050 batches, score=0.836\n",
      "For 3100 batches, score=0.836\n",
      "For 3150 batches, score=0.837\n",
      "For 3200 batches, score=0.837\n",
      "For 3250 batches, score=0.836\n",
      "For 3300 batches, score=0.837\n",
      "For 3350 batches, score=0.837\n",
      "For 3400 batches, score=0.837\n",
      "For 3450 batches, score=0.837\n",
      "For 3500 batches, score=0.838\n",
      "For 3550 batches, score=0.839\n",
      "For 3600 batches, score=0.839\n",
      "For 3650 batches, score=0.839\n",
      "For 3700 batches, score=0.838\n",
      "For 3750 batches, score=0.838\n",
      "For 3800 batches, score=0.837\n",
      "For 3850 batches, score=0.837\n",
      "For 3900 batches, score=0.836\n",
      "For 3950 batches, score=0.836\n",
      "For 4000 batches, score=0.837\n",
      "For 4050 batches, score=0.837\n",
      "For 4100 batches, score=0.837\n",
      "For 4150 batches, score=0.837\n",
      "For 4200 batches, score=0.838\n",
      "For 4250 batches, score=0.836\n",
      "For 4300 batches, score=0.836\n",
      "For 4350 batches, score=0.835\n",
      "For 4400 batches, score=0.836\n",
      "For 4450 batches, score=0.836\n",
      "For 4500 batches, score=0.836\n",
      "For 4550 batches, score=0.836\n",
      "For 4600 batches, score=0.836\n",
      "For 4650 batches, score=0.836\n",
      "For 4700 batches, score=0.837\n",
      "For 4750 batches, score=0.837\n",
      "For 4800 batches, score=0.836\n",
      "For 4850 batches, score=0.835\n",
      "For 4900 batches, score=0.834\n",
      "For 4950 batches, score=0.834\n",
      "For 5000 batches, score=0.835\n",
      "For 5050 batches, score=0.836\n",
      "For 5100 batches, score=0.836\n",
      "For 5150 batches, score=0.836\n",
      "For 5200 batches, score=0.837\n",
      "For 5250 batches, score=0.836\n",
      "For 5300 batches, score=0.836\n",
      "For 5350 batches, score=0.836\n",
      "For 5400 batches, score=0.836\n",
      "For 5450 batches, score=0.835\n",
      "For 5500 batches, score=0.834\n",
      "For 5550 batches, score=0.834\n",
      "For 5600 batches, score=0.835\n",
      "For 5650 batches, score=0.835\n",
      "For 5700 batches, score=0.834\n",
      "For 5750 batches, score=0.832\n",
      "For 5800 batches, score=0.833\n",
      "For 5850 batches, score=0.832\n",
      "For 5900 batches, score=0.831\n",
      "For 5950 batches, score=0.831\n",
      "For 6000 batches, score=0.832\n",
      "For 6050 batches, score=0.832\n",
      "For 6100 batches, score=0.832\n",
      "For 6150 batches, score=0.832\n",
      "For 6200 batches, score=0.832\n",
      "For 6250 batches, score=0.833\n",
      "For 6300 batches, score=0.833\n",
      "For 6350 batches, score=0.834\n",
      "For 6400 batches, score=0.833\n",
      "For 6450 batches, score=0.834\n",
      "For 6500 batches, score=0.834\n",
      "For 6550 batches, score=0.834\n",
      "For 6600 batches, score=0.834\n",
      "For 6650 batches, score=0.835\n",
      "For 6700 batches, score=0.834\n",
      "For 6750 batches, score=0.834\n",
      "For 6800 batches, score=0.833\n",
      "For 6850 batches, score=0.833\n",
      "For 6900 batches, score=0.833\n",
      "For 6950 batches, score=0.833\n",
      "For 7000 batches, score=0.834\n",
      "For 7050 batches, score=0.833\n",
      "For 7100 batches, score=0.833\n",
      "For 7150 batches, score=0.833\n",
      "For 7200 batches, score=0.834\n",
      "For 7250 batches, score=0.833\n",
      "For 7300 batches, score=0.833\n",
      "For 7350 batches, score=0.833\n",
      "For 7400 batches, score=0.834\n",
      "For 7450 batches, score=0.834\n",
      "For 7500 batches, score=0.833\n",
      "For 7550 batches, score=0.832\n",
      "For 7600 batches, score=0.833\n",
      "For 7650 batches, score=0.833\n",
      "For 7700 batches, score=0.833\n",
      "For 7750 batches, score=0.833\n",
      "For 7800 batches, score=0.833\n",
      "For 7850 batches, score=0.832\n",
      "For 7900 batches, score=0.832\n",
      "For 7950 batches, score=0.833\n",
      "For 8000 batches, score=0.833\n",
      "For 8050 batches, score=0.833\n",
      "For 8100 batches, score=0.833\n",
      "For 8150 batches, score=0.833\n",
      "For 8200 batches, score=0.833\n",
      "For 8250 batches, score=0.833\n",
      "For 8300 batches, score=0.833\n",
      "epoch 2: loss=0.001 score=0.839\n",
      "Best score: 0.8391698218681575. Saving model...\n",
      "For 50 batches, score=0.842\n",
      "For 100 batches, score=0.867\n",
      "For 150 batches, score=0.892\n",
      "For 200 batches, score=0.900\n",
      "For 250 batches, score=0.876\n",
      "For 300 batches, score=0.868\n",
      "For 350 batches, score=0.856\n",
      "For 400 batches, score=0.859\n",
      "For 450 batches, score=0.854\n",
      "For 500 batches, score=0.855\n",
      "For 550 batches, score=0.853\n",
      "For 600 batches, score=0.848\n",
      "For 650 batches, score=0.848\n",
      "For 700 batches, score=0.849\n",
      "For 750 batches, score=0.846\n",
      "For 800 batches, score=0.841\n",
      "For 850 batches, score=0.840\n",
      "For 900 batches, score=0.845\n",
      "For 950 batches, score=0.848\n",
      "For 1000 batches, score=0.851\n",
      "For 1050 batches, score=0.849\n",
      "For 1100 batches, score=0.847\n",
      "For 1150 batches, score=0.850\n",
      "For 1200 batches, score=0.851\n",
      "For 1250 batches, score=0.853\n",
      "For 1300 batches, score=0.852\n",
      "For 1350 batches, score=0.854\n",
      "For 1400 batches, score=0.853\n",
      "For 1450 batches, score=0.855\n",
      "For 1500 batches, score=0.853\n",
      "For 1550 batches, score=0.853\n",
      "For 1600 batches, score=0.853\n",
      "For 1650 batches, score=0.855\n",
      "For 1700 batches, score=0.857\n",
      "For 1750 batches, score=0.859\n",
      "For 1800 batches, score=0.860\n",
      "For 1850 batches, score=0.860\n",
      "For 1900 batches, score=0.861\n",
      "For 1950 batches, score=0.858\n",
      "For 2000 batches, score=0.857\n",
      "For 2050 batches, score=0.859\n",
      "For 2100 batches, score=0.858\n",
      "For 2150 batches, score=0.857\n",
      "For 2200 batches, score=0.856\n",
      "For 2250 batches, score=0.858\n",
      "For 2300 batches, score=0.859\n",
      "For 2350 batches, score=0.861\n",
      "For 2400 batches, score=0.860\n",
      "For 2450 batches, score=0.860\n",
      "For 2500 batches, score=0.860\n",
      "For 2550 batches, score=0.861\n",
      "For 2600 batches, score=0.861\n",
      "For 2650 batches, score=0.862\n",
      "For 2700 batches, score=0.859\n",
      "For 2750 batches, score=0.858\n",
      "For 2800 batches, score=0.856\n",
      "For 2850 batches, score=0.856\n",
      "For 2900 batches, score=0.856\n",
      "For 2950 batches, score=0.856\n",
      "For 3000 batches, score=0.853\n",
      "For 3050 batches, score=0.854\n",
      "For 3100 batches, score=0.853\n",
      "For 3150 batches, score=0.852\n",
      "For 3200 batches, score=0.851\n",
      "For 3250 batches, score=0.851\n",
      "For 3300 batches, score=0.852\n",
      "For 3350 batches, score=0.850\n",
      "For 3400 batches, score=0.850\n",
      "For 3450 batches, score=0.850\n",
      "For 3500 batches, score=0.849\n",
      "For 3550 batches, score=0.849\n",
      "For 3600 batches, score=0.849\n",
      "For 3650 batches, score=0.849\n",
      "For 3700 batches, score=0.849\n",
      "For 3750 batches, score=0.848\n",
      "For 3800 batches, score=0.849\n",
      "For 3850 batches, score=0.849\n",
      "For 3900 batches, score=0.849\n",
      "For 3950 batches, score=0.850\n",
      "For 4000 batches, score=0.849\n",
      "For 4050 batches, score=0.849\n",
      "For 4100 batches, score=0.849\n",
      "For 4150 batches, score=0.850\n",
      "For 4200 batches, score=0.850\n",
      "For 4250 batches, score=0.849\n",
      "For 4300 batches, score=0.848\n",
      "For 4350 batches, score=0.848\n",
      "For 4400 batches, score=0.849\n",
      "For 4450 batches, score=0.850\n",
      "For 4500 batches, score=0.849\n",
      "For 4550 batches, score=0.847\n",
      "For 4600 batches, score=0.847\n",
      "For 4650 batches, score=0.846\n",
      "For 4700 batches, score=0.846\n",
      "For 4750 batches, score=0.845\n",
      "For 4800 batches, score=0.845\n",
      "For 4850 batches, score=0.845\n",
      "For 4900 batches, score=0.845\n",
      "For 4950 batches, score=0.845\n",
      "For 5000 batches, score=0.846\n",
      "For 5050 batches, score=0.846\n",
      "For 5100 batches, score=0.846\n",
      "For 5150 batches, score=0.846\n",
      "For 5200 batches, score=0.845\n",
      "For 5250 batches, score=0.845\n",
      "For 5300 batches, score=0.845\n",
      "For 5350 batches, score=0.846\n",
      "For 5400 batches, score=0.846\n",
      "For 5450 batches, score=0.846\n",
      "For 5500 batches, score=0.846\n",
      "For 5550 batches, score=0.845\n",
      "For 5600 batches, score=0.845\n",
      "For 5650 batches, score=0.845\n",
      "For 5700 batches, score=0.845\n",
      "For 5750 batches, score=0.844\n",
      "For 5800 batches, score=0.845\n",
      "For 5850 batches, score=0.845\n",
      "For 5900 batches, score=0.845\n",
      "For 5950 batches, score=0.846\n",
      "For 6000 batches, score=0.846\n",
      "For 6050 batches, score=0.846\n",
      "For 6100 batches, score=0.846\n",
      "For 6150 batches, score=0.846\n",
      "For 6200 batches, score=0.845\n",
      "For 6250 batches, score=0.846\n",
      "For 6300 batches, score=0.845\n",
      "For 6350 batches, score=0.845\n",
      "For 6400 batches, score=0.845\n",
      "For 6450 batches, score=0.845\n",
      "For 6500 batches, score=0.846\n",
      "For 6550 batches, score=0.846\n",
      "For 6600 batches, score=0.847\n",
      "For 6650 batches, score=0.846\n",
      "For 6700 batches, score=0.846\n",
      "For 6750 batches, score=0.846\n",
      "For 6800 batches, score=0.847\n",
      "For 6850 batches, score=0.846\n",
      "For 6900 batches, score=0.846\n",
      "For 6950 batches, score=0.846\n",
      "For 7000 batches, score=0.846\n",
      "For 7050 batches, score=0.846\n",
      "For 7100 batches, score=0.846\n",
      "For 7150 batches, score=0.846\n",
      "For 7200 batches, score=0.846\n",
      "For 7250 batches, score=0.847\n",
      "For 7300 batches, score=0.847\n",
      "For 7350 batches, score=0.846\n",
      "For 7400 batches, score=0.846\n",
      "For 7450 batches, score=0.846\n",
      "For 7500 batches, score=0.845\n",
      "For 7550 batches, score=0.845\n",
      "For 7600 batches, score=0.845\n",
      "For 7650 batches, score=0.846\n",
      "For 7700 batches, score=0.846\n",
      "For 7750 batches, score=0.846\n",
      "For 7800 batches, score=0.846\n",
      "For 7850 batches, score=0.846\n",
      "For 7900 batches, score=0.846\n",
      "For 7950 batches, score=0.846\n",
      "For 8000 batches, score=0.846\n",
      "For 8050 batches, score=0.846\n",
      "For 8100 batches, score=0.846\n",
      "For 8150 batches, score=0.846\n",
      "For 8200 batches, score=0.846\n",
      "For 8250 batches, score=0.846\n",
      "For 8300 batches, score=0.846\n",
      "epoch 3: loss=0.001 score=0.822\n",
      "Score did not improve! 0.8224537821530563 <= 0.8391698218681575. Patience left: 1\n",
      "For 50 batches, score=0.928\n",
      "For 100 batches, score=0.853\n",
      "For 150 batches, score=0.872\n",
      "For 200 batches, score=0.885\n",
      "For 250 batches, score=0.884\n",
      "For 300 batches, score=0.876\n",
      "For 350 batches, score=0.865\n",
      "For 400 batches, score=0.853\n",
      "For 450 batches, score=0.859\n",
      "For 500 batches, score=0.857\n",
      "For 550 batches, score=0.855\n",
      "For 600 batches, score=0.858\n",
      "For 650 batches, score=0.861\n",
      "For 700 batches, score=0.863\n",
      "For 750 batches, score=0.860\n",
      "For 800 batches, score=0.858\n",
      "For 850 batches, score=0.859\n",
      "For 900 batches, score=0.861\n",
      "For 950 batches, score=0.857\n",
      "For 1000 batches, score=0.862\n",
      "For 1050 batches, score=0.862\n",
      "For 1100 batches, score=0.862\n",
      "For 1150 batches, score=0.861\n",
      "For 1200 batches, score=0.861\n",
      "For 1250 batches, score=0.862\n",
      "For 1300 batches, score=0.864\n",
      "For 1350 batches, score=0.866\n",
      "For 1400 batches, score=0.865\n",
      "For 1450 batches, score=0.867\n",
      "For 1500 batches, score=0.866\n",
      "For 1550 batches, score=0.864\n",
      "For 1600 batches, score=0.864\n",
      "For 1650 batches, score=0.862\n",
      "For 1700 batches, score=0.861\n",
      "For 1750 batches, score=0.860\n",
      "For 1800 batches, score=0.861\n",
      "For 1850 batches, score=0.863\n",
      "For 1900 batches, score=0.863\n",
      "For 1950 batches, score=0.864\n",
      "For 2000 batches, score=0.863\n",
      "For 2050 batches, score=0.863\n",
      "For 2100 batches, score=0.864\n",
      "For 2150 batches, score=0.865\n",
      "For 2200 batches, score=0.866\n",
      "For 2250 batches, score=0.867\n",
      "For 2300 batches, score=0.867\n",
      "For 2350 batches, score=0.867\n",
      "For 2400 batches, score=0.866\n",
      "For 2450 batches, score=0.867\n",
      "For 2500 batches, score=0.865\n",
      "For 2550 batches, score=0.863\n",
      "For 2600 batches, score=0.862\n",
      "For 2650 batches, score=0.863\n",
      "For 2700 batches, score=0.863\n",
      "For 2750 batches, score=0.862\n",
      "For 2800 batches, score=0.862\n",
      "For 2850 batches, score=0.862\n",
      "For 2900 batches, score=0.862\n",
      "For 2950 batches, score=0.863\n",
      "For 3000 batches, score=0.862\n",
      "For 3050 batches, score=0.862\n",
      "For 3100 batches, score=0.862\n",
      "For 3150 batches, score=0.862\n",
      "For 3200 batches, score=0.862\n",
      "For 3250 batches, score=0.862\n",
      "For 3300 batches, score=0.861\n",
      "For 3350 batches, score=0.860\n",
      "For 3400 batches, score=0.860\n",
      "For 3450 batches, score=0.860\n",
      "For 3500 batches, score=0.858\n",
      "For 3550 batches, score=0.857\n",
      "For 3600 batches, score=0.857\n",
      "For 3650 batches, score=0.858\n",
      "For 3700 batches, score=0.859\n",
      "For 3750 batches, score=0.859\n",
      "For 3800 batches, score=0.857\n",
      "For 3850 batches, score=0.857\n",
      "For 3900 batches, score=0.856\n",
      "For 3950 batches, score=0.855\n",
      "For 4000 batches, score=0.855\n",
      "For 4050 batches, score=0.856\n",
      "For 4100 batches, score=0.856\n",
      "For 4150 batches, score=0.856\n",
      "For 4200 batches, score=0.856\n",
      "For 4250 batches, score=0.856\n",
      "For 4300 batches, score=0.856\n",
      "For 4350 batches, score=0.857\n",
      "For 4400 batches, score=0.856\n",
      "For 4450 batches, score=0.856\n",
      "For 4500 batches, score=0.855\n",
      "For 4550 batches, score=0.856\n",
      "For 4600 batches, score=0.856\n",
      "For 4650 batches, score=0.856\n",
      "For 4700 batches, score=0.856\n",
      "For 4750 batches, score=0.857\n",
      "For 4800 batches, score=0.856\n",
      "For 4850 batches, score=0.856\n",
      "For 4900 batches, score=0.855\n",
      "For 4950 batches, score=0.855\n",
      "For 5000 batches, score=0.855\n",
      "For 5050 batches, score=0.855\n",
      "For 5100 batches, score=0.856\n",
      "For 5150 batches, score=0.856\n",
      "For 5200 batches, score=0.856\n",
      "For 5250 batches, score=0.856\n",
      "For 5300 batches, score=0.857\n",
      "For 5350 batches, score=0.857\n",
      "For 5400 batches, score=0.857\n",
      "For 5450 batches, score=0.857\n",
      "For 5500 batches, score=0.858\n",
      "For 5550 batches, score=0.858\n",
      "For 5600 batches, score=0.858\n",
      "For 5650 batches, score=0.858\n",
      "For 5700 batches, score=0.857\n",
      "For 5750 batches, score=0.856\n",
      "For 5800 batches, score=0.856\n",
      "For 5850 batches, score=0.855\n",
      "For 5900 batches, score=0.855\n",
      "For 5950 batches, score=0.854\n",
      "For 6000 batches, score=0.855\n",
      "For 6050 batches, score=0.855\n",
      "For 6100 batches, score=0.854\n",
      "For 6150 batches, score=0.855\n",
      "For 6200 batches, score=0.855\n",
      "For 6250 batches, score=0.855\n",
      "For 6300 batches, score=0.855\n",
      "For 6350 batches, score=0.855\n",
      "For 6400 batches, score=0.855\n",
      "For 6450 batches, score=0.855\n",
      "For 6500 batches, score=0.856\n",
      "For 6550 batches, score=0.856\n",
      "For 6600 batches, score=0.856\n",
      "For 6650 batches, score=0.857\n",
      "For 6700 batches, score=0.857\n",
      "For 6750 batches, score=0.857\n",
      "For 6800 batches, score=0.857\n",
      "For 6850 batches, score=0.857\n",
      "For 6900 batches, score=0.857\n",
      "For 6950 batches, score=0.857\n",
      "For 7000 batches, score=0.857\n",
      "For 7050 batches, score=0.856\n",
      "For 7100 batches, score=0.856\n",
      "For 7150 batches, score=0.857\n",
      "For 7200 batches, score=0.857\n",
      "For 7250 batches, score=0.857\n",
      "For 7300 batches, score=0.858\n",
      "For 7350 batches, score=0.859\n",
      "For 7400 batches, score=0.858\n",
      "For 7450 batches, score=0.858\n",
      "For 7500 batches, score=0.858\n",
      "For 7550 batches, score=0.858\n",
      "For 7600 batches, score=0.858\n",
      "For 7650 batches, score=0.858\n",
      "For 7700 batches, score=0.858\n",
      "For 7750 batches, score=0.859\n",
      "For 7800 batches, score=0.858\n",
      "For 7850 batches, score=0.858\n",
      "For 7900 batches, score=0.858\n",
      "For 7950 batches, score=0.859\n",
      "For 8000 batches, score=0.859\n",
      "For 8050 batches, score=0.859\n",
      "For 8100 batches, score=0.859\n",
      "For 8150 batches, score=0.859\n",
      "For 8200 batches, score=0.859\n",
      "For 8250 batches, score=0.859\n",
      "For 8300 batches, score=0.859\n",
      "epoch 4: loss=0.001 score=0.838\n",
      "Score did not improve! 0.8375658083007461 <= 0.8391698218681575. Patience left: 0\n",
      "patience reduced to 0. Training Finished.\n"
     ]
    }
   ],
   "source": [
    "optimizer = optim.Adam(list(model.parameters()), lr=learning_rate, betas=(0.9, 0.999))\n",
    "\n",
    "valid_score_best = 0\n",
    "patience = 2\n",
    "num_epochs = 5  # you don't need to train this for that long!\n",
    "\n",
    "for e in range(num_epochs):\n",
    "    train_score, train_loss = solution.train_loop(model, basset_dataloader_train, device, optimizer, criterion)\n",
    "    valid_score, valid_loss = solution.valid_loop(model, basset_dataloader_valid, device, optimizer, criterion)\n",
    "\n",
    "    print('epoch {}: loss={:.3f} score={:.3f}'.format(e,\n",
    "                                                      valid_loss,\n",
    "                                                      valid_score))\n",
    "\n",
    "    if valid_score > valid_score_best:\n",
    "        print('Best score: {}. Saving model...'.format(valid_score))\n",
    "        torch.save(model, 'model_params.pt')\n",
    "        valid_score_best = valid_score\n",
    "    else:\n",
    "        patience -= 1\n",
    "        print('Score did not improve! {} <= {}. Patience left: {}'.format(valid_score,\n",
    "                                                                          valid_score_best,\n",
    "                                                                          patience))\n",
    "    if patience == 0:\n",
    "        print('patience reduced to 0. Training Finished.')\n",
    "        break"
   ]
  },
  {
   "cell_type": "code",
   "execution_count": 59,
   "metadata": {
    "executionInfo": {
     "elapsed": 179,
     "status": "ok",
     "timestamp": 1646266432754,
     "user": {
      "displayName": "Saad Benslimane",
      "photoUrl": "https://lh3.googleusercontent.com/a-/AOh14GjZ_IarygbEoxh5KXQvUNwrzvUtcbvIXZ0sbKdFAA=s64",
      "userId": "09951197489881515608"
     },
     "user_tz": 300
    },
    "id": "bVPQvS-6yDXg"
   },
   "outputs": [],
   "source": [
    "# epoch 4: loss=0.001 score=0.832\n",
    "# Score did not improve! 0.8323864259263286 <= 0.8426421859572849. Patience left: 1"
   ]
  },
  {
   "cell_type": "markdown",
   "metadata": {
    "id": "P3WqwIe_2f3j"
   },
   "source": [
    "# **Question 5 (Interpreting the Model)**\n",
    "\n",
    "(30 points) In real-world applications of deep learning, it is *crucial* that we verify that our models are learning what we expect them to learn. In this exercise, we will replicate a part of figure 3b from [Basset](https://pubmed.ncbi.nlm.nih.gov/27197224/).\n",
    "\n",
    "In genetics, there exists well known DNA *motifs*: short sequences which appear throughtout our DNA, and whose function are well documented. We expect that the filters of the first convolution layer should learn to identify some of these motifs in order to solve this task.\n",
    "\n",
    "**Please submit the answers to this exercise on a single paged PDF!**\n",
    "\n",
    "1. First, we need to ensure that our model has learned something. Plot the ROC curve and compute the AUC of your model after training. Compare the ROC curves and the AUC before and after training with your simulated models. What do you notice?"
   ]
  },
  {
   "cell_type": "code",
   "execution_count": 61,
   "metadata": {
    "executionInfo": {
     "elapsed": 905,
     "status": "ok",
     "timestamp": 1646266588246,
     "user": {
      "displayName": "Saad Benslimane",
      "photoUrl": "https://lh3.googleusercontent.com/a-/AOh14GjZ_IarygbEoxh5KXQvUNwrzvUtcbvIXZ0sbKdFAA=s64",
      "userId": "09951197489881515608"
     },
     "user_tz": 300
    },
    "id": "KbovFjK-ee7c"
   },
   "outputs": [],
   "source": [
    "untrained_model = solution.Basset().to(device)\n",
    "trained_model = torch.load(\"/content/gdrive/MyDrive/A1/model_params.pt\")"
   ]
  },
  {
   "cell_type": "code",
   "execution_count": 62,
   "metadata": {
    "executionInfo": {
     "elapsed": 25529,
     "status": "ok",
     "timestamp": 1646266615681,
     "user": {
      "displayName": "Saad Benslimane",
      "photoUrl": "https://lh3.googleusercontent.com/a-/AOh14GjZ_IarygbEoxh5KXQvUNwrzvUtcbvIXZ0sbKdFAA=s64",
      "userId": "09951197489881515608"
     },
     "user_tz": 300
    },
    "id": "HBVp3CiBkIR1"
   },
   "outputs": [],
   "source": [
    "untrained_model = untrained_model.to(device)\n",
    "untrained_model.eval()\n",
    "auc_test = []\n",
    "y_model_untrained = torch.Tensor()\n",
    "y_true_untrained = torch.Tensor()\n",
    "\n",
    "with torch.set_grad_enabled(False) :\n",
    "  for i, dictionary in enumerate(basset_dataloader_test):\n",
    "    # Transfer to GPU\n",
    "    sequence, target = dictionary[\"sequence\"].to(device), dictionary[\"target\"].to(device)\n",
    "    # Model computations\n",
    "    outputs = untrained_model(sequence)\n",
    "    y_model = torch.sigmoid(outputs)\n",
    "    # # Concatenate y_true\n",
    "    y_true = target.cpu()\n",
    "    y_true_untrained = torch.cat((y_true_untrained, y_true))\n",
    "    # # Concatenate y_model\n",
    "    y_model = y_model.detach().cpu()\n",
    "    y_model_untrained = torch.cat((y_model_untrained, y_model))\n",
    "\n",
    "# From tensor to numpy\n",
    "y_model_untrained = y_model_untrained.float().numpy().flatten()\n",
    "y_true_untrained = y_true_untrained.int().numpy().flatten()"
   ]
  },
  {
   "cell_type": "code",
   "execution_count": 63,
   "metadata": {
    "executionInfo": {
     "elapsed": 14812,
     "status": "ok",
     "timestamp": 1646266630490,
     "user": {
      "displayName": "Saad Benslimane",
      "photoUrl": "https://lh3.googleusercontent.com/a-/AOh14GjZ_IarygbEoxh5KXQvUNwrzvUtcbvIXZ0sbKdFAA=s64",
      "userId": "09951197489881515608"
     },
     "user_tz": 300
    },
    "id": "Az0hRL63neGQ"
   },
   "outputs": [],
   "source": [
    "untrained_auc, untrained_fpr, untrained_tpr = solution.compute_auc(y_true_untrained, y_model_untrained)"
   ]
  },
  {
   "cell_type": "code",
   "execution_count": null,
   "metadata": {
    "colab": {
     "base_uri": "https://localhost:8080/"
    },
    "executionInfo": {
     "elapsed": 9,
     "status": "ok",
     "timestamp": 1646210909525,
     "user": {
      "displayName": "Saad Benslimane",
      "photoUrl": "https://lh3.googleusercontent.com/a-/AOh14GjZ_IarygbEoxh5KXQvUNwrzvUtcbvIXZ0sbKdFAA=s64",
      "userId": "09951197489881515608"
     },
     "user_tz": 300
    },
    "id": "CVY-MNYRy2of",
    "outputId": "270356ce-fea7-4432-b382-c74e0fb4c86e"
   },
   "outputs": [
    {
     "data": {
      "text/plain": [
       "{'auc': 0.49752832994235585}"
      ]
     },
     "execution_count": 13,
     "metadata": {},
     "output_type": "execute_result"
    }
   ],
   "source": [
    "# 'auc': 0.49752832994235585\n",
    "untrained_auc"
   ]
  },
  {
   "cell_type": "code",
   "execution_count": null,
   "metadata": {
    "id": "vVMEjlIFn-fI"
   },
   "outputs": [],
   "source": [
    "trained_model = trained_model.to(device)\n",
    "trained_model.eval()\n",
    "\n",
    "y_model_trained = torch.Tensor()\n",
    "y_true_trained = torch.Tensor()\n",
    "\n",
    "with torch.set_grad_enabled(False) :\n",
    "  for i, dictionary in enumerate(basset_dataloader_test) :\n",
    "    # Transfer to GPU\n",
    "    sequence, target = dictionary[\"sequence\"].to(device), dictionary[\"target\"].to(device)\n",
    "    # Model computations\n",
    "    outputs = trained_model(sequence)\n",
    "    y_model = torch.sigmoid(outputs)\n",
    "    # Concatenate y_true\n",
    "    y_true = target.cpu()\n",
    "    y_true_trained = torch.cat((y_true_trained, y_true))\n",
    "    # Concatenate y_model\n",
    "    y_model = y_model.detach().cpu()\n",
    "    y_model_trained = torch.cat((y_model_trained, y_model))\n",
    "\n",
    "# From tensor to numpy\n",
    "y_model_trained = y_model_trained.float().numpy().flatten()\n",
    "y_true_trained = y_true_trained.int().numpy().flatten()\n"
   ]
  },
  {
   "cell_type": "code",
   "execution_count": null,
   "metadata": {
    "id": "93dW1OfSogqK"
   },
   "outputs": [],
   "source": [
    "trained_auc, trained_fpr, trained_tpr = solution.compute_auc(y_true_trained, y_model_trained)"
   ]
  },
  {
   "cell_type": "code",
   "execution_count": null,
   "metadata": {
    "colab": {
     "base_uri": "https://localhost:8080/"
    },
    "executionInfo": {
     "elapsed": 9,
     "status": "ok",
     "timestamp": 1646211003354,
     "user": {
      "displayName": "Saad Benslimane",
      "photoUrl": "https://lh3.googleusercontent.com/a-/AOh14GjZ_IarygbEoxh5KXQvUNwrzvUtcbvIXZ0sbKdFAA=s64",
      "userId": "09951197489881515608"
     },
     "user_tz": 300
    },
    "id": "RiFGA7yx0eHb",
    "outputId": "a99efe82-d294-42a8-8542-3dcfe955bb9f"
   },
   "outputs": [
    {
     "data": {
      "text/plain": [
       "{'auc': 0.8429816675640787}"
      ]
     },
     "execution_count": 16,
     "metadata": {},
     "output_type": "execute_result"
    }
   ],
   "source": [
    "# 'auc': 0.8429816675640787\n",
    "trained_auc"
   ]
  },
  {
   "cell_type": "code",
   "execution_count": null,
   "metadata": {
    "colab": {
     "base_uri": "https://localhost:8080/",
     "height": 627
    },
    "executionInfo": {
     "elapsed": 466,
     "status": "ok",
     "timestamp": 1646211003812,
     "user": {
      "displayName": "Saad Benslimane",
      "photoUrl": "https://lh3.googleusercontent.com/a-/AOh14GjZ_IarygbEoxh5KXQvUNwrzvUtcbvIXZ0sbKdFAA=s64",
      "userId": "09951197489881515608"
     },
     "user_tz": 300
    },
    "id": "aKy3GdLznSCr",
    "outputId": "e42b1679-5207-4907-f266-0292c95ac24f"
   },
   "outputs": [
    {
     "data": {
      "image/png": "[encoded data removed]",
      "text/plain": [
       "<Figure size 720x720 with 1 Axes>"
      ]
     },
     "metadata": {
      "needs_background": "light"
     },
     "output_type": "display_data"
    }
   ],
   "source": [
    "import matplotlib.pyplot as plt\n",
    "\n",
    "# Plotting the ROC curves\n",
    "f,ax = plt.subplots(figsize = (10,10))\n",
    "plt.plot(untrained_fpr, untrained_tpr, label='untrained model', color=\"blue\")\n",
    "plt.plot(trained_fpr, trained_tpr, label='trained model', color=\"red\")\n",
    "plt.xlabel(\"FPR\", fontsize = 15)\n",
    "plt.ylabel(\"TPR\", fontsize = 15)\n",
    "plt.title(\"ROC curve for untrained and trained model\", fontsize = 15)\n",
    "plt.legend()\n",
    "plt.show()"
   ]
  },
  {
   "cell_type": "markdown",
   "metadata": {
    "id": "H59cj2dVV20R"
   },
   "source": [
    "2. We represent motifs as position weight matrices (PWMs). This is a matrix of size $4$ $\\times$ the motif length, where the $(i,j)$th entry is a count of how often base-pair $i$ occurs at position $j$. Open the PWM for the CTCF motif, which can be found in `MA0139.1.jaspar`. Normalize this matrix so that each column sums to $1$. Display the PWM."
   ]
  },
  {
   "cell_type": "code",
   "execution_count": 10,
   "metadata": {
    "colab": {
     "base_uri": "https://localhost:8080/",
     "height": 206
    },
    "executionInfo": {
     "elapsed": 407,
     "status": "ok",
     "timestamp": 1646257313238,
     "user": {
      "displayName": "Saad Benslimane",
      "photoUrl": "https://lh3.googleusercontent.com/a-/AOh14GjZ_IarygbEoxh5KXQvUNwrzvUtcbvIXZ0sbKdFAA=s64",
      "userId": "09951197489881515608"
     },
     "user_tz": 300
    },
    "id": "f7I3kXRhB__K",
    "outputId": "7d21a4ba-e69f-4964-f124-08b6cd3fdf05"
   },
   "outputs": [
    {
     "data": {
      "text/html": [
       "\n",
       "  <div id=\"df-46de579d-dd13-42cd-b7c7-fcb0392f1a45\">\n",
       "    <div class=\"colab-df-container\">\n",
       "      <div>\n",
       "<style scoped>\n",
       "    .dataframe tbody tr th:only-of-type {\n",
       "        vertical-align: middle;\n",
       "    }\n",
       "\n",
       "    .dataframe tbody tr th {\n",
       "        vertical-align: top;\n",
       "    }\n",
       "\n",
       "    .dataframe thead th {\n",
       "        text-align: right;\n",
       "    }\n",
       "</style>\n",
       "<table border=\"1\" class=\"dataframe\">\n",
       "  <thead>\n",
       "    <tr style=\"text-align: right;\">\n",
       "      <th></th>\n",
       "      <th>1</th>\n",
       "      <th>2</th>\n",
       "      <th>3</th>\n",
       "      <th>4</th>\n",
       "      <th>5</th>\n",
       "      <th>6</th>\n",
       "      <th>7</th>\n",
       "      <th>8</th>\n",
       "      <th>9</th>\n",
       "      <th>10</th>\n",
       "      <th>11</th>\n",
       "      <th>12</th>\n",
       "      <th>13</th>\n",
       "      <th>14</th>\n",
       "      <th>15</th>\n",
       "      <th>16</th>\n",
       "      <th>17</th>\n",
       "      <th>18</th>\n",
       "      <th>19</th>\n",
       "    </tr>\n",
       "    <tr>\n",
       "      <th>0</th>\n",
       "      <th></th>\n",
       "      <th></th>\n",
       "      <th></th>\n",
       "      <th></th>\n",
       "      <th></th>\n",
       "      <th></th>\n",
       "      <th></th>\n",
       "      <th></th>\n",
       "      <th></th>\n",
       "      <th></th>\n",
       "      <th></th>\n",
       "      <th></th>\n",
       "      <th></th>\n",
       "      <th></th>\n",
       "      <th></th>\n",
       "      <th></th>\n",
       "      <th></th>\n",
       "      <th></th>\n",
       "      <th></th>\n",
       "    </tr>\n",
       "  </thead>\n",
       "  <tbody>\n",
       "    <tr>\n",
       "      <th>A</th>\n",
       "      <td>87</td>\n",
       "      <td>167</td>\n",
       "      <td>281</td>\n",
       "      <td>56</td>\n",
       "      <td>8</td>\n",
       "      <td>744</td>\n",
       "      <td>40</td>\n",
       "      <td>107</td>\n",
       "      <td>851</td>\n",
       "      <td>5</td>\n",
       "      <td>333</td>\n",
       "      <td>54</td>\n",
       "      <td>12</td>\n",
       "      <td>56</td>\n",
       "      <td>104</td>\n",
       "      <td>372</td>\n",
       "      <td>82</td>\n",
       "      <td>117</td>\n",
       "      <td>402</td>\n",
       "    </tr>\n",
       "    <tr>\n",
       "      <th>C</th>\n",
       "      <td>291</td>\n",
       "      <td>145</td>\n",
       "      <td>49</td>\n",
       "      <td>800</td>\n",
       "      <td>903</td>\n",
       "      <td>13</td>\n",
       "      <td>528</td>\n",
       "      <td>433</td>\n",
       "      <td>11</td>\n",
       "      <td>0</td>\n",
       "      <td>3</td>\n",
       "      <td>12</td>\n",
       "      <td>0</td>\n",
       "      <td>8</td>\n",
       "      <td>733</td>\n",
       "      <td>13</td>\n",
       "      <td>482</td>\n",
       "      <td>322</td>\n",
       "      <td>181</td>\n",
       "    </tr>\n",
       "    <tr>\n",
       "      <th>G</th>\n",
       "      <td>76</td>\n",
       "      <td>414</td>\n",
       "      <td>449</td>\n",
       "      <td>21</td>\n",
       "      <td>0</td>\n",
       "      <td>65</td>\n",
       "      <td>334</td>\n",
       "      <td>48</td>\n",
       "      <td>32</td>\n",
       "      <td>903</td>\n",
       "      <td>566</td>\n",
       "      <td>504</td>\n",
       "      <td>890</td>\n",
       "      <td>775</td>\n",
       "      <td>5</td>\n",
       "      <td>507</td>\n",
       "      <td>307</td>\n",
       "      <td>73</td>\n",
       "      <td>266</td>\n",
       "    </tr>\n",
       "    <tr>\n",
       "      <th>T</th>\n",
       "      <td>459</td>\n",
       "      <td>187</td>\n",
       "      <td>134</td>\n",
       "      <td>36</td>\n",
       "      <td>2</td>\n",
       "      <td>91</td>\n",
       "      <td>11</td>\n",
       "      <td>324</td>\n",
       "      <td>18</td>\n",
       "      <td>3</td>\n",
       "      <td>9</td>\n",
       "      <td>341</td>\n",
       "      <td>8</td>\n",
       "      <td>71</td>\n",
       "      <td>67</td>\n",
       "      <td>17</td>\n",
       "      <td>37</td>\n",
       "      <td>396</td>\n",
       "      <td>59</td>\n",
       "    </tr>\n",
       "  </tbody>\n",
       "</table>\n",
       "</div>\n",
       "      <button class=\"colab-df-convert\" onclick=\"convertToInteractive('df-46de579d-dd13-42cd-b7c7-fcb0392f1a45')\"\n",
       "              title=\"Convert this dataframe to an interactive table.\"\n",
       "              style=\"display:none;\">\n",
       "        \n",
       "  <svg xmlns=\"http://www.w3.org/2000/svg\" height=\"24px\"viewBox=\"0 0 24 24\"\n",
       "       width=\"24px\">\n",
       "    <path d=\"M0 0h24v24H0V0z\" fill=\"none\"/>\n",
       "    <path d=\"M18.56 5.44l.94 2.06.94-2.06 2.06-.94-2.06-.94-.94-2.06-.94 2.06-2.06.94zm-11 1L8.5 8.5l.94-2.06 2.06-.94-2.06-.94L8.5 2.5l-.94 2.06-2.06.94zm10 10l.94 2.06.94-2.06 2.06-.94-2.06-.94-.94-2.06-.94 2.06-2.06.94z\"/><path d=\"M17.41 7.96l-1.37-1.37c-.4-.4-.92-.59-1.43-.59-.52 0-1.04.2-1.43.59L10.3 9.45l-7.72 7.72c-.78.78-.78 2.05 0 2.83L4 21.41c.39.39.9.59 1.41.59.51 0 1.02-.2 1.41-.59l7.78-7.78 2.81-2.81c.8-.78.8-2.07 0-2.86zM5.41 20L4 18.59l7.72-7.72 1.47 1.35L5.41 20z\"/>\n",
       "  </svg>\n",
       "      </button>\n",
       "      \n",
       "  <style>\n",
       "    .colab-df-container {\n",
       "      display:flex;\n",
       "      flex-wrap:wrap;\n",
       "      gap: 12px;\n",
       "    }\n",
       "\n",
       "    .colab-df-convert {\n",
       "      background-color: #E8F0FE;\n",
       "      border: none;\n",
       "      border-radius: 50%;\n",
       "      cursor: pointer;\n",
       "      display: none;\n",
       "      fill: #1967D2;\n",
       "      height: 32px;\n",
       "      padding: 0 0 0 0;\n",
       "      width: 32px;\n",
       "    }\n",
       "\n",
       "    .colab-df-convert:hover {\n",
       "      background-color: #E2EBFA;\n",
       "      box-shadow: 0px 1px 2px rgba(60, 64, 67, 0.3), 0px 1px 3px 1px rgba(60, 64, 67, 0.15);\n",
       "      fill: #174EA6;\n",
       "    }\n",
       "\n",
       "    [theme=dark] .colab-df-convert {\n",
       "      background-color: #3B4455;\n",
       "      fill: #D2E3FC;\n",
       "    }\n",
       "\n",
       "    [theme=dark] .colab-df-convert:hover {\n",
       "      background-color: #434B5C;\n",
       "      box-shadow: 0px 1px 3px 1px rgba(0, 0, 0, 0.15);\n",
       "      filter: drop-shadow(0px 1px 2px rgba(0, 0, 0, 0.3));\n",
       "      fill: #FFFFFF;\n",
       "    }\n",
       "  </style>\n",
       "\n",
       "      <script>\n",
       "        const buttonEl =\n",
       "          document.querySelector('#df-46de579d-dd13-42cd-b7c7-fcb0392f1a45 button.colab-df-convert');\n",
       "        buttonEl.style.display =\n",
       "          google.colab.kernel.accessAllowed ? 'block' : 'none';\n",
       "\n",
       "        async function convertToInteractive(key) {\n",
       "          const element = document.querySelector('#df-46de579d-dd13-42cd-b7c7-fcb0392f1a45');\n",
       "          const dataTable =\n",
       "            await google.colab.kernel.invokeFunction('convertToInteractive',\n",
       "                                                     [key], {});\n",
       "          if (!dataTable) return;\n",
       "\n",
       "          const docLinkHtml = 'Like what you see? Visit the ' +\n",
       "            '<a target=\"_blank\" href=https://colab.research.google.com/notebooks/data_table.ipynb>data table notebook</a>'\n",
       "            + ' to learn more about interactive tables.';\n",
       "          element.innerHTML = '';\n",
       "          dataTable['output_type'] = 'display_data';\n",
       "          await google.colab.output.renderOutput(dataTable, element);\n",
       "          const docLink = document.createElement('div');\n",
       "          docLink.innerHTML = docLinkHtml;\n",
       "          element.appendChild(docLink);\n",
       "        }\n",
       "      </script>\n",
       "    </div>\n",
       "  </div>\n",
       "  "
      ],
      "text/plain": [
       "    1    2    3    4    5    6    7   ...   13   14   15   16   17   18   19\n",
       "0                                     ...                                   \n",
       "A   87  167  281   56    8  744   40  ...   12   56  104  372   82  117  402\n",
       "C  291  145   49  800  903   13  528  ...    0    8  733   13  482  322  181\n",
       "G   76  414  449   21    0   65  334  ...  890  775    5  507  307   73  266\n",
       "T  459  187  134   36    2   91   11  ...    8   71   67   17   37  396   59\n",
       "\n",
       "[4 rows x 19 columns]"
      ]
     },
     "execution_count": 10,
     "metadata": {},
     "output_type": "execute_result"
    }
   ],
   "source": [
    "import pandas as pd\n",
    "PWM = pd.read_csv('/content/gdrive/MyDrive/A1/matrice.txt', header=None, index_col=0)\n",
    "PWM"
   ]
  },
  {
   "cell_type": "code",
   "execution_count": 11,
   "metadata": {
    "colab": {
     "base_uri": "https://localhost:8080/",
     "height": 238
    },
    "executionInfo": {
     "elapsed": 6,
     "status": "ok",
     "timestamp": 1646257313238,
     "user": {
      "displayName": "Saad Benslimane",
      "photoUrl": "https://lh3.googleusercontent.com/a-/AOh14GjZ_IarygbEoxh5KXQvUNwrzvUtcbvIXZ0sbKdFAA=s64",
      "userId": "09951197489881515608"
     },
     "user_tz": 300
    },
    "id": "Sl-CDbo7efis",
    "outputId": "6e97a52d-b7e9-4e6b-d191-1033ad371996"
   },
   "outputs": [
    {
     "data": {
      "text/html": [
       "\n",
       "  <div id=\"df-00a26f2d-2147-4802-bd64-dc669de5e391\">\n",
       "    <div class=\"colab-df-container\">\n",
       "      <div>\n",
       "<style scoped>\n",
       "    .dataframe tbody tr th:only-of-type {\n",
       "        vertical-align: middle;\n",
       "    }\n",
       "\n",
       "    .dataframe tbody tr th {\n",
       "        vertical-align: top;\n",
       "    }\n",
       "\n",
       "    .dataframe thead th {\n",
       "        text-align: right;\n",
       "    }\n",
       "</style>\n",
       "<table border=\"1\" class=\"dataframe\">\n",
       "  <thead>\n",
       "    <tr style=\"text-align: right;\">\n",
       "      <th></th>\n",
       "      <th>0</th>\n",
       "      <th>1</th>\n",
       "      <th>2</th>\n",
       "      <th>3</th>\n",
       "      <th>4</th>\n",
       "      <th>5</th>\n",
       "      <th>6</th>\n",
       "      <th>7</th>\n",
       "      <th>8</th>\n",
       "      <th>9</th>\n",
       "      <th>10</th>\n",
       "      <th>11</th>\n",
       "      <th>12</th>\n",
       "      <th>13</th>\n",
       "      <th>14</th>\n",
       "      <th>15</th>\n",
       "      <th>16</th>\n",
       "      <th>17</th>\n",
       "      <th>18</th>\n",
       "    </tr>\n",
       "  </thead>\n",
       "  <tbody>\n",
       "    <tr>\n",
       "      <th>A</th>\n",
       "      <td>0.095290</td>\n",
       "      <td>0.182913</td>\n",
       "      <td>0.307777</td>\n",
       "      <td>0.061336</td>\n",
       "      <td>0.008762</td>\n",
       "      <td>0.814896</td>\n",
       "      <td>0.043812</td>\n",
       "      <td>0.117325</td>\n",
       "      <td>0.933114</td>\n",
       "      <td>0.005488</td>\n",
       "      <td>0.365532</td>\n",
       "      <td>0.059276</td>\n",
       "      <td>0.013187</td>\n",
       "      <td>0.061538</td>\n",
       "      <td>0.114411</td>\n",
       "      <td>0.409241</td>\n",
       "      <td>0.090308</td>\n",
       "      <td>0.128855</td>\n",
       "      <td>0.442731</td>\n",
       "    </tr>\n",
       "    <tr>\n",
       "      <th>C</th>\n",
       "      <td>0.318729</td>\n",
       "      <td>0.158817</td>\n",
       "      <td>0.053669</td>\n",
       "      <td>0.876232</td>\n",
       "      <td>0.989047</td>\n",
       "      <td>0.014239</td>\n",
       "      <td>0.578313</td>\n",
       "      <td>0.474781</td>\n",
       "      <td>0.012061</td>\n",
       "      <td>0.000000</td>\n",
       "      <td>0.003293</td>\n",
       "      <td>0.013172</td>\n",
       "      <td>0.000000</td>\n",
       "      <td>0.008791</td>\n",
       "      <td>0.806381</td>\n",
       "      <td>0.014301</td>\n",
       "      <td>0.530837</td>\n",
       "      <td>0.354626</td>\n",
       "      <td>0.199339</td>\n",
       "    </tr>\n",
       "    <tr>\n",
       "      <th>G</th>\n",
       "      <td>0.083242</td>\n",
       "      <td>0.453450</td>\n",
       "      <td>0.491785</td>\n",
       "      <td>0.023001</td>\n",
       "      <td>0.000000</td>\n",
       "      <td>0.071194</td>\n",
       "      <td>0.365827</td>\n",
       "      <td>0.052632</td>\n",
       "      <td>0.035088</td>\n",
       "      <td>0.991218</td>\n",
       "      <td>0.621295</td>\n",
       "      <td>0.553238</td>\n",
       "      <td>0.978022</td>\n",
       "      <td>0.851648</td>\n",
       "      <td>0.005501</td>\n",
       "      <td>0.557756</td>\n",
       "      <td>0.338106</td>\n",
       "      <td>0.080396</td>\n",
       "      <td>0.292952</td>\n",
       "    </tr>\n",
       "    <tr>\n",
       "      <th>T</th>\n",
       "      <td>0.502738</td>\n",
       "      <td>0.204819</td>\n",
       "      <td>0.146769</td>\n",
       "      <td>0.039430</td>\n",
       "      <td>0.002191</td>\n",
       "      <td>0.099671</td>\n",
       "      <td>0.012048</td>\n",
       "      <td>0.355263</td>\n",
       "      <td>0.019737</td>\n",
       "      <td>0.003293</td>\n",
       "      <td>0.009879</td>\n",
       "      <td>0.374314</td>\n",
       "      <td>0.008791</td>\n",
       "      <td>0.078022</td>\n",
       "      <td>0.073707</td>\n",
       "      <td>0.018702</td>\n",
       "      <td>0.040749</td>\n",
       "      <td>0.436123</td>\n",
       "      <td>0.064978</td>\n",
       "    </tr>\n",
       "  </tbody>\n",
       "</table>\n",
       "</div>\n",
       "      <button class=\"colab-df-convert\" onclick=\"convertToInteractive('df-00a26f2d-2147-4802-bd64-dc669de5e391')\"\n",
       "              title=\"Convert this dataframe to an interactive table.\"\n",
       "              style=\"display:none;\">\n",
       "        \n",
       "  <svg xmlns=\"http://www.w3.org/2000/svg\" height=\"24px\"viewBox=\"0 0 24 24\"\n",
       "       width=\"24px\">\n",
       "    <path d=\"M0 0h24v24H0V0z\" fill=\"none\"/>\n",
       "    <path d=\"M18.56 5.44l.94 2.06.94-2.06 2.06-.94-2.06-.94-.94-2.06-.94 2.06-2.06.94zm-11 1L8.5 8.5l.94-2.06 2.06-.94-2.06-.94L8.5 2.5l-.94 2.06-2.06.94zm10 10l.94 2.06.94-2.06 2.06-.94-2.06-.94-.94-2.06-.94 2.06-2.06.94z\"/><path d=\"M17.41 7.96l-1.37-1.37c-.4-.4-.92-.59-1.43-.59-.52 0-1.04.2-1.43.59L10.3 9.45l-7.72 7.72c-.78.78-.78 2.05 0 2.83L4 21.41c.39.39.9.59 1.41.59.51 0 1.02-.2 1.41-.59l7.78-7.78 2.81-2.81c.8-.78.8-2.07 0-2.86zM5.41 20L4 18.59l7.72-7.72 1.47 1.35L5.41 20z\"/>\n",
       "  </svg>\n",
       "      </button>\n",
       "      \n",
       "  <style>\n",
       "    .colab-df-container {\n",
       "      display:flex;\n",
       "      flex-wrap:wrap;\n",
       "      gap: 12px;\n",
       "    }\n",
       "\n",
       "    .colab-df-convert {\n",
       "      background-color: #E8F0FE;\n",
       "      border: none;\n",
       "      border-radius: 50%;\n",
       "      cursor: pointer;\n",
       "      display: none;\n",
       "      fill: #1967D2;\n",
       "      height: 32px;\n",
       "      padding: 0 0 0 0;\n",
       "      width: 32px;\n",
       "    }\n",
       "\n",
       "    .colab-df-convert:hover {\n",
       "      background-color: #E2EBFA;\n",
       "      box-shadow: 0px 1px 2px rgba(60, 64, 67, 0.3), 0px 1px 3px 1px rgba(60, 64, 67, 0.15);\n",
       "      fill: #174EA6;\n",
       "    }\n",
       "\n",
       "    [theme=dark] .colab-df-convert {\n",
       "      background-color: #3B4455;\n",
       "      fill: #D2E3FC;\n",
       "    }\n",
       "\n",
       "    [theme=dark] .colab-df-convert:hover {\n",
       "      background-color: #434B5C;\n",
       "      box-shadow: 0px 1px 3px 1px rgba(0, 0, 0, 0.15);\n",
       "      filter: drop-shadow(0px 1px 2px rgba(0, 0, 0, 0.3));\n",
       "      fill: #FFFFFF;\n",
       "    }\n",
       "  </style>\n",
       "\n",
       "      <script>\n",
       "        const buttonEl =\n",
       "          document.querySelector('#df-00a26f2d-2147-4802-bd64-dc669de5e391 button.colab-df-convert');\n",
       "        buttonEl.style.display =\n",
       "          google.colab.kernel.accessAllowed ? 'block' : 'none';\n",
       "\n",
       "        async function convertToInteractive(key) {\n",
       "          const element = document.querySelector('#df-00a26f2d-2147-4802-bd64-dc669de5e391');\n",
       "          const dataTable =\n",
       "            await google.colab.kernel.invokeFunction('convertToInteractive',\n",
       "                                                     [key], {});\n",
       "          if (!dataTable) return;\n",
       "\n",
       "          const docLinkHtml = 'Like what you see? Visit the ' +\n",
       "            '<a target=\"_blank\" href=https://colab.research.google.com/notebooks/data_table.ipynb>data table notebook</a>'\n",
       "            + ' to learn more about interactive tables.';\n",
       "          element.innerHTML = '';\n",
       "          dataTable['output_type'] = 'display_data';\n",
       "          await google.colab.output.renderOutput(dataTable, element);\n",
       "          const docLink = document.createElement('div');\n",
       "          docLink.innerHTML = docLinkHtml;\n",
       "          element.appendChild(docLink);\n",
       "        }\n",
       "      </script>\n",
       "    </div>\n",
       "  </div>\n",
       "  "
      ],
      "text/plain": [
       "         0         1         2   ...        16        17        18\n",
       "A  0.095290  0.182913  0.307777  ...  0.090308  0.128855  0.442731\n",
       "C  0.318729  0.158817  0.053669  ...  0.530837  0.354626  0.199339\n",
       "G  0.083242  0.453450  0.491785  ...  0.338106  0.080396  0.292952\n",
       "T  0.502738  0.204819  0.146769  ...  0.040749  0.436123  0.064978\n",
       "\n",
       "[4 rows x 19 columns]"
      ]
     },
     "execution_count": 11,
     "metadata": {},
     "output_type": "execute_result"
    }
   ],
   "source": [
    "PWM_np = PWM.to_numpy()\n",
    "PWM_np = PWM_np/PWM_np.sum(axis=0,keepdims=1)\n",
    "PWM_norm = pd.DataFrame(PWM_np, index = [\"A\", \"C\", \"G\", \"T\"])\n",
    "PWM_norm"
   ]
  },
  {
   "cell_type": "markdown",
   "metadata": {
    "id": "O1x6qoXteLaf"
   },
   "source": [
    "3. In the methods section of the [paper](https://pubmed.ncbi.nlm.nih.gov/27197224/) (page 998), the authors describe how they converted each of the $300$ filters into normalized PWMs. First, for each filter, they determined the maximum activated value across the *dataset* (you may use a subset of the test set here). Compute these values."
   ]
  },
  {
   "cell_type": "code",
   "execution_count": 64,
   "metadata": {
    "executionInfo": {
     "elapsed": 23866,
     "status": "ok",
     "timestamp": 1646266654352,
     "user": {
      "displayName": "Saad Benslimane",
      "photoUrl": "https://lh3.googleusercontent.com/a-/AOh14GjZ_IarygbEoxh5KXQvUNwrzvUtcbvIXZ0sbKdFAA=s64",
      "userId": "09951197489881515608"
     },
     "user_tz": 300
    },
    "id": "SW0g5D6MFMKA"
   },
   "outputs": [],
   "source": [
    "max_values = torch.zeros(300)\n",
    "max_values = max_values.to(device)\n",
    "\n",
    "for i, data in enumerate(basset_dataloader_test):\n",
    "    with torch.no_grad():\n",
    "        # Transfer to GPU\n",
    "        sequence = data['sequence'].to(device)\n",
    "        w = torch.Tensor([])\n",
    "        # Model computations\n",
    "        activ = trained_model.conv1(sequence)\n",
    "        w = torch.max(torch.max(activ,2).values,0).values.squeeze()\n",
    "        w = w.to(device)\n",
    "        max_values = torch.max(max_values, w)\n"
   ]
  },
  {
   "cell_type": "code",
   "execution_count": 103,
   "metadata": {
    "colab": {
     "base_uri": "https://localhost:8080/",
     "height": 480
    },
    "executionInfo": {
     "elapsed": 415,
     "status": "ok",
     "timestamp": 1646270062840,
     "user": {
      "displayName": "Saad Benslimane",
      "photoUrl": "https://lh3.googleusercontent.com/a-/AOh14GjZ_IarygbEoxh5KXQvUNwrzvUtcbvIXZ0sbKdFAA=s64",
      "userId": "09951197489881515608"
     },
     "user_tz": 300
    },
    "id": "g4T3xprb9QGR",
    "outputId": "f9904149-23f2-4eb6-a46a-3ff028ae812d"
   },
   "outputs": [
    {
     "data": {
      "image/png": "[encoded data removed]",
      "text/plain": [
       "<Figure size 700x500 with 1 Axes>"
      ]
     },
     "metadata": {
      "needs_background": "light"
     },
     "output_type": "display_data"
    }
   ],
   "source": [
    "import matplotlib.pyplot as plt\n",
    "%matplotlib inline\n",
    "plt.rcParams.update({'figure.figsize':(7,5), 'figure.dpi':100})\n",
    "\n",
    "max_values = max_values.cpu()\n",
    "# Plot Histogram on max_values\n",
    "plt.hist(max_values.cpu(), bins=50, density=True)\n",
    "plt.gca().set(title='Frequency Histogram', xlabel='activation value', ylabel='Frequency');"
   ]
  },
  {
   "cell_type": "code",
   "execution_count": 66,
   "metadata": {
    "colab": {
     "base_uri": "https://localhost:8080/"
    },
    "executionInfo": {
     "elapsed": 6,
     "status": "ok",
     "timestamp": 1646266654621,
     "user": {
      "displayName": "Saad Benslimane",
      "photoUrl": "https://lh3.googleusercontent.com/a-/AOh14GjZ_IarygbEoxh5KXQvUNwrzvUtcbvIXZ0sbKdFAA=s64",
      "userId": "09951197489881515608"
     },
     "user_tz": 300
    },
    "id": "rHq349vlA9Rh",
    "outputId": "fcdaf5e0-d66c-442d-8334-a5313ae1620b"
   },
   "outputs": [
    {
     "data": {
      "text/plain": [
       "tensor(18.2924)"
      ]
     },
     "execution_count": 66,
     "metadata": {},
     "output_type": "execute_result"
    }
   ],
   "source": [
    "torch.median(max_values)"
   ]
  },
  {
   "cell_type": "code",
   "execution_count": 104,
   "metadata": {
    "colab": {
     "base_uri": "https://localhost:8080/"
    },
    "executionInfo": {
     "elapsed": 167,
     "status": "ok",
     "timestamp": 1646270223940,
     "user": {
      "displayName": "Saad Benslimane",
      "photoUrl": "https://lh3.googleusercontent.com/a-/AOh14GjZ_IarygbEoxh5KXQvUNwrzvUtcbvIXZ0sbKdFAA=s64",
      "userId": "09951197489881515608"
     },
     "user_tz": 300
    },
    "id": "JEhV3ciIWfmP",
    "outputId": "b3fea7b2-71d6-4d1c-d814-7736775681db"
   },
   "outputs": [
    {
     "data": {
      "text/plain": [
       "tensor([18.0620, 21.8191, 10.9657,  5.4022,  8.7240,  7.7070,  7.5565, 21.8017,\n",
       "        19.2293, 17.4454, 16.8911,  9.0526,  2.6300, 24.7143,  6.4048, 18.7462,\n",
       "        21.3259, 19.4477,  8.3740, 23.3308, 14.9217,  5.5815, 21.7513, 24.4339,\n",
       "         7.8069, 22.9326, 15.2146,  9.3924, 11.2012, 21.9014, 15.2153, 11.8606,\n",
       "         9.2935, 12.9346, 22.4881, 21.8707, 20.7941, 22.7814,  7.5684, 22.7144,\n",
       "        16.0883,  5.8810, 22.6403,  7.7498, 17.7706, 20.3221, 22.3368, 16.5826,\n",
       "        23.1423, 19.4614, 20.1505, 18.9701, 22.7369, 22.3619,  7.4534, 18.5953,\n",
       "         8.1662,  6.0777,  6.8557, 17.8359,  8.2695, 20.0820, 20.3602, 16.2629,\n",
       "        23.2811, 16.9977, 20.4952, 19.3251, 19.5301, 17.2661, 16.2683, 21.1528,\n",
       "        18.3072,  7.8002, 24.4297,  4.3140, 20.9875,  7.0081,  7.3629, 20.8258,\n",
       "        21.7367, 19.7477, 16.8246, 23.8271, 23.1726, 18.3643,  8.1732, 19.7036,\n",
       "         7.2525, 15.7242,  9.9677, 21.1584, 24.4158, 19.6702,  3.7194, 18.8762,\n",
       "        10.9677, 18.2265,  7.6051, 27.1972,  9.0689, 10.2086,  5.2446, 19.5158,\n",
       "        19.8976,  7.8940, 22.0175, 22.0294, 22.6258, 13.9705, 22.6884, 18.7845,\n",
       "        22.1508, 10.4795,  9.3777, 19.3829,  7.2927, 10.2672, 20.8465, 20.7224,\n",
       "        24.3049, 24.6062, 20.3398, 20.2618, 18.8339,  4.9117,  8.3576, 15.3690,\n",
       "        20.2104, 16.6885,  9.8301, 18.4329, 22.0006,  9.1933, 27.0224,  3.7204,\n",
       "        21.4376, 10.8985, 21.7536, 20.0107, 18.2924,  8.7063, 21.2039,  8.5112,\n",
       "        21.9112, 11.5827, 24.4827, 13.2877, 16.8101, 10.2855,  6.7788, 22.3043,\n",
       "        17.5517, 12.6560, 20.4960, 20.5560, 19.3934, 11.8720, 17.4567, 14.9264,\n",
       "        10.7818, 22.2022,  7.9164, 23.2808,  9.9589, 23.0040, 17.5774, 24.3347,\n",
       "        22.7499, 21.7725, 17.4760, 21.3953, 12.8854,  4.8991,  7.4294,  6.4966,\n",
       "        19.4252, 23.3427, 20.3065, 14.5022, 18.6187,  6.6941, 22.7364, 22.4600,\n",
       "        27.0928,  5.9356,  6.7505, 22.9943, 22.0175, 17.5326,  8.3213, 19.2576,\n",
       "        18.4462, 19.7298, 22.1891,  8.1927,  8.2988, 10.2887, 17.8328, 24.1946,\n",
       "        16.5574,  6.3328,  6.7691, 11.0111,  5.1333,  9.3511,  7.6660,  9.0167,\n",
       "         9.8901, 18.7595, 18.0028, 19.3390, 10.3598, 11.9673, 19.6369, 22.9861,\n",
       "        22.7946,  9.4695, 18.5561,  8.1685,  9.1968, 20.7058, 21.8776, 26.4179,\n",
       "        18.5062, 20.8335, 24.0328, 22.2982, 13.6817, 22.5974, 18.1386, 10.5400,\n",
       "         7.6824, 18.0600, 19.3878, 23.1619,  3.1280, 20.9695,  1.4088, 11.8981,\n",
       "        23.0712,  6.7581,  9.8404,  9.2611, 19.2404,  9.6870, 17.9665,  8.1886,\n",
       "        22.0099, 24.5807, 23.9768, 19.6689, 22.1065, 16.7792, 19.5377, 21.7059,\n",
       "        23.2528, 22.9785,  6.7102, 17.8836, 22.1837, 17.6063, 18.3487, 19.9856,\n",
       "        21.4951,  6.6222,  5.0209, 13.6415,  8.8569, 15.3092, 19.7222,  7.5128,\n",
       "         6.4583, 16.3046, 19.0110, 24.8461, 22.0245,  2.1359, 19.2577, 20.6977,\n",
       "        22.0167, 24.8647, 20.2510, 22.2628, 20.1455,  8.6741,  5.6305, 22.8797,\n",
       "        22.9749, 18.2649, 18.8667,  3.2853, 18.9402,  5.0393,  5.8352, 20.4888,\n",
       "        13.9422, 22.1074, 20.0686,  8.4595])"
      ]
     },
     "execution_count": 104,
     "metadata": {},
     "output_type": "execute_result"
    }
   ],
   "source": [
    "max_values"
   ]
  },
  {
   "cell_type": "markdown",
   "metadata": {
    "id": "VaVuQwub8Ap_"
   },
   "source": [
    "\n",
    "4. Next, they counted the base-pair occurrences in the set of sequences that activate the filter to a value that is more than half of its maximum value.\n",
    "\n",
    "  Note: You should use `torch.functional.unfold`."
   ]
  },
  {
   "cell_type": "code",
   "execution_count": 67,
   "metadata": {
    "colab": {
     "base_uri": "https://localhost:8080/"
    },
    "executionInfo": {
     "elapsed": 493067,
     "status": "ok",
     "timestamp": 1646267147685,
     "user": {
      "displayName": "Saad Benslimane",
      "photoUrl": "https://lh3.googleusercontent.com/a-/AOh14GjZ_IarygbEoxh5KXQvUNwrzvUtcbvIXZ0sbKdFAA=s64",
      "userId": "09951197489881515608"
     },
     "user_tz": 300
    },
    "id": "RPiXlc-v5khw",
    "outputId": "af62e21f-5a5b-4d14-81e7-286ea60b069c"
   },
   "outputs": [
    {
     "name": "stdout",
     "output_type": "stream",
     "text": [
      "Batch 0 starts\n",
      "torch.Size([64, 76, 600])\n",
      "\tItem 0 starts\n",
      "\tItem 1 starts\n",
      "\tItem 2 starts\n",
      "\tItem 3 starts\n",
      "\tItem 4 starts\n",
      "\tItem 5 starts\n",
      "\tItem 6 starts\n",
      "\tItem 7 starts\n",
      "\tItem 8 starts\n",
      "\tItem 9 starts\n",
      "\tItem 10 starts\n",
      "\tItem 11 starts\n",
      "\tItem 12 starts\n",
      "\tItem 13 starts\n",
      "\tItem 14 starts\n",
      "\tItem 15 starts\n",
      "\tItem 16 starts\n",
      "\tItem 17 starts\n",
      "\tItem 18 starts\n",
      "\tItem 19 starts\n",
      "\tItem 20 starts\n",
      "\tItem 21 starts\n",
      "\tItem 22 starts\n",
      "\tItem 23 starts\n",
      "\tItem 24 starts\n",
      "\tItem 25 starts\n",
      "\tItem 26 starts\n",
      "\tItem 27 starts\n",
      "\tItem 28 starts\n",
      "\tItem 29 starts\n",
      "\tItem 30 starts\n",
      "\tItem 31 starts\n",
      "\tItem 32 starts\n",
      "\tItem 33 starts\n",
      "\tItem 34 starts\n",
      "\tItem 35 starts\n",
      "\tItem 36 starts\n",
      "\tItem 37 starts\n",
      "\tItem 38 starts\n",
      "\tItem 39 starts\n",
      "\tItem 40 starts\n",
      "\tItem 41 starts\n",
      "\tItem 42 starts\n",
      "\tItem 43 starts\n",
      "\tItem 44 starts\n",
      "\tItem 45 starts\n",
      "\tItem 46 starts\n",
      "\tItem 47 starts\n",
      "\tItem 48 starts\n",
      "\tItem 49 starts\n",
      "\tItem 50 starts\n",
      "\tItem 51 starts\n",
      "\tItem 52 starts\n",
      "\tItem 53 starts\n",
      "\tItem 54 starts\n",
      "\tItem 55 starts\n",
      "\tItem 56 starts\n",
      "\tItem 57 starts\n",
      "\tItem 58 starts\n",
      "\tItem 59 starts\n",
      "\tItem 60 starts\n",
      "\tItem 61 starts\n",
      "\tItem 62 starts\n",
      "\tItem 63 starts\n"
     ]
    }
   ],
   "source": [
    "results = np.zeros((4,300))\n",
    "empty = np.zeros((300,4))\n",
    "count = np.zeros((300,19,4))\n",
    "\n",
    "unfold = torch.nn.Unfold(kernel_size=(19,4), padding=(9,0), stride=(1,1))\n",
    "\n",
    "dataloader_iterator=iter(basset_dataloader_test)\n",
    "dataloader = basset_dataloader_test\n",
    "num_batches = len(basset_dataloader_test)\n",
    "n = trained_model.conv1.weight.detach().cpu().numpy()\n",
    "for batch in range(num_batches):\n",
    "    print('Batch', batch, 'starts')\n",
    "    data = next(dataloader_iterator)\n",
    "    x = data[\"sequence\"]\n",
    "    y = data[\"target\"]\n",
    "\n",
    "    print(unfold(x).shape) \n",
    "    unfolded_x = unfold(x).reshape((64, 19, 4, 600)).permute((0,3,1,2))\n",
    "\n",
    "    output = np.zeros((64, 600, 300, 1))\n",
    "    for i, item in enumerate(unfolded_x): \n",
    "    print(\"\\tItem\", i, \"starts\")\n",
    "    for i_k, input_kernel in enumerate(item):\n",
    "        input_kernel = input_kernel.numpy()\n",
    "        for k, kernel in enumerate(n):\n",
    "            kernel = kernel.reshape(19, 4)\n",
    "            conv_result = np.sum(input_kernel * kernel)\n",
    "\n",
    "        output[i, i_k, k] = conv_result\n",
    "        if conv_result > max_values[k]/2:\n",
    "            count[k] = count[k] + input_kernel\n",
    "    if(batch == 0):\n",
    "    break;"
   ]
  },
  {
   "cell_type": "code",
   "execution_count": 68,
   "metadata": {
    "executionInfo": {
     "elapsed": 30,
     "status": "ok",
     "timestamp": 1646267147687,
     "user": {
      "displayName": "Saad Benslimane",
      "photoUrl": "https://lh3.googleusercontent.com/a-/AOh14GjZ_IarygbEoxh5KXQvUNwrzvUtcbvIXZ0sbKdFAA=s64",
      "userId": "09951197489881515608"
     },
     "user_tz": 300
    },
    "id": "XZpKCNYPcSsk"
   },
   "outputs": [],
   "source": [
    "torch.save(count, 'count_2.pt')"
   ]
  },
  {
   "cell_type": "code",
   "execution_count": 115,
   "metadata": {
    "executionInfo": {
     "elapsed": 159,
     "status": "ok",
     "timestamp": 1646270801051,
     "user": {
      "displayName": "Saad Benslimane",
      "photoUrl": "https://lh3.googleusercontent.com/a-/AOh14GjZ_IarygbEoxh5KXQvUNwrzvUtcbvIXZ0sbKdFAA=s64",
      "userId": "09951197489881515608"
     },
     "user_tz": 300
    },
    "id": "DIADpQm4ldSp"
   },
   "outputs": [],
   "source": [
    "count = torch.load('/content/gdrive/MyDrive/A1/count_2.pt')"
   ]
  },
  {
   "cell_type": "code",
   "execution_count": 116,
   "metadata": {
    "executionInfo": {
     "elapsed": 1,
     "status": "ok",
     "timestamp": 1646270801255,
     "user": {
      "displayName": "Saad Benslimane",
      "photoUrl": "https://lh3.googleusercontent.com/a-/AOh14GjZ_IarygbEoxh5KXQvUNwrzvUtcbvIXZ0sbKdFAA=s64",
      "userId": "09951197489881515608"
     },
     "user_tz": 300
    },
    "id": "rkfWg8TBCsgr"
   },
   "outputs": [],
   "source": [
    "count_new = np.transpose(count, (0, 2, 1))"
   ]
  },
  {
   "cell_type": "markdown",
   "metadata": {
    "id": "MIClN1pr8rc-"
   },
   "source": [
    "5. Given your 300 PWMs derived from your convolution filters, check to see if any of them are similar to the PWM for CTCF. You could quantify the similarity using *Pearson Correlation Coefficient*. Make a visualization of the PWM of the CTCF motif along with the most similar ones learned from the network. "
   ]
  },
  {
   "cell_type": "code",
   "execution_count": 106,
   "metadata": {
    "colab": {
     "base_uri": "https://localhost:8080/"
    },
    "executionInfo": {
     "elapsed": 174,
     "status": "ok",
     "timestamp": 1646270309114,
     "user": {
      "displayName": "Saad Benslimane",
      "photoUrl": "https://lh3.googleusercontent.com/a-/AOh14GjZ_IarygbEoxh5KXQvUNwrzvUtcbvIXZ0sbKdFAA=s64",
      "userId": "09951197489881515608"
     },
     "user_tz": 300
    },
    "id": "8xoGeOX3Jc9Q",
    "outputId": "1d1dbadc-f3ed-4c4a-f917-a387aaf50bea"
   },
   "outputs": [
    {
     "name": "stderr",
     "output_type": "stream",
     "text": [
      "/usr/local/lib/python3.7/dist-packages/ipykernel_launcher.py:5: RuntimeWarning: invalid value encountered in true_divide\n",
      "  \"\"\"\n",
      "/usr/local/lib/python3.7/dist-packages/scipy/stats/stats.py:3508: PearsonRConstantInputWarning: An input array is constant; the correlation coefficent is not defined.\n",
      "  warnings.warn(PearsonRConstantInputWarning())\n"
     ]
    }
   ],
   "source": [
    "from scipy.stats import pearsonr\n",
    "corr = []\n",
    "dic = {'PWM': 0., 'values': 0.}\n",
    "for i in range(300) :\n",
    "  X = count_new[i]/count_new[i].sum(axis=0,keepdims=1)\n",
    "  X = np.nan_to_num(X)\n",
    "  PWM_np = np.nan_to_num(PWM_np)\n",
    "  correlation, p_value = pearsonr(PWM_np.flatten(), X.flatten())\n",
    "  corr.append(correlation)"
   ]
  },
  {
   "cell_type": "code",
   "execution_count": 107,
   "metadata": {
    "executionInfo": {
     "elapsed": 3,
     "status": "ok",
     "timestamp": 1646270309719,
     "user": {
      "displayName": "Saad Benslimane",
      "photoUrl": "https://lh3.googleusercontent.com/a-/AOh14GjZ_IarygbEoxh5KXQvUNwrzvUtcbvIXZ0sbKdFAA=s64",
      "userId": "09951197489881515608"
     },
     "user_tz": 300
    },
    "id": "4BM1vkdqFDIm"
   },
   "outputs": [],
   "source": [
    "corr_ = np.nan_to_num(corr)"
   ]
  },
  {
   "cell_type": "code",
   "execution_count": 108,
   "metadata": {
    "colab": {
     "base_uri": "https://localhost:8080/"
    },
    "executionInfo": {
     "elapsed": 4,
     "status": "ok",
     "timestamp": 1646270310295,
     "user": {
      "displayName": "Saad Benslimane",
      "photoUrl": "https://lh3.googleusercontent.com/a-/AOh14GjZ_IarygbEoxh5KXQvUNwrzvUtcbvIXZ0sbKdFAA=s64",
      "userId": "09951197489881515608"
     },
     "user_tz": 300
    },
    "id": "q8F8273_nOMi",
    "outputId": "92e214f5-60f8-432d-a5b6-b2d9b7141db1"
   },
   "outputs": [
    {
     "data": {
      "text/plain": [
       "0.6699517986180339"
      ]
     },
     "execution_count": 108,
     "metadata": {},
     "output_type": "execute_result"
    }
   ],
   "source": [
    "max(corr_)"
   ]
  },
  {
   "cell_type": "code",
   "execution_count": 121,
   "metadata": {
    "executionInfo": {
     "elapsed": 152,
     "status": "ok",
     "timestamp": 1646270889688,
     "user": {
      "displayName": "Saad Benslimane",
      "photoUrl": "https://lh3.googleusercontent.com/a-/AOh14GjZ_IarygbEoxh5KXQvUNwrzvUtcbvIXZ0sbKdFAA=s64",
      "userId": "09951197489881515608"
     },
     "user_tz": 300
    },
    "id": "123jGLWIRjvh"
   },
   "outputs": [],
   "source": [
    "indx = np.where(corr_ > 0.55)"
   ]
  },
  {
   "cell_type": "code",
   "execution_count": 122,
   "metadata": {
    "colab": {
     "base_uri": "https://localhost:8080/"
    },
    "executionInfo": {
     "elapsed": 191,
     "status": "ok",
     "timestamp": 1646270890298,
     "user": {
      "displayName": "Saad Benslimane",
      "photoUrl": "https://lh3.googleusercontent.com/a-/AOh14GjZ_IarygbEoxh5KXQvUNwrzvUtcbvIXZ0sbKdFAA=s64",
      "userId": "09951197489881515608"
     },
     "user_tz": 300
    },
    "id": "pINng7kHn670",
    "outputId": "717d3eef-e747-45b1-d127-350b57784ac8"
   },
   "outputs": [
    {
     "data": {
      "text/plain": [
       "(array([119, 145, 232]),)"
      ]
     },
     "execution_count": 122,
     "metadata": {},
     "output_type": "execute_result"
    }
   ],
   "source": [
    "indx"
   ]
  },
  {
   "cell_type": "code",
   "execution_count": 125,
   "metadata": {
    "colab": {
     "base_uri": "https://localhost:8080/"
    },
    "executionInfo": {
     "elapsed": 173,
     "status": "ok",
     "timestamp": 1646270935322,
     "user": {
      "displayName": "Saad Benslimane",
      "photoUrl": "https://lh3.googleusercontent.com/a-/AOh14GjZ_IarygbEoxh5KXQvUNwrzvUtcbvIXZ0sbKdFAA=s64",
      "userId": "09951197489881515608"
     },
     "user_tz": 300
    },
    "id": "kC-cWDrkZHfS",
    "outputId": "41d51a28-7bf9-498b-a357-daf540bfee6a"
   },
   "outputs": [
    {
     "data": {
      "text/plain": [
       "0.5747609141030597"
      ]
     },
     "execution_count": 125,
     "metadata": {},
     "output_type": "execute_result"
    }
   ],
   "source": [
    "corr_[232]"
   ]
  },
  {
   "cell_type": "code",
   "execution_count": 142,
   "metadata": {
    "colab": {
     "base_uri": "https://localhost:8080/"
    },
    "executionInfo": {
     "elapsed": 181,
     "status": "ok",
     "timestamp": 1646271335614,
     "user": {
      "displayName": "Saad Benslimane",
      "photoUrl": "https://lh3.googleusercontent.com/a-/AOh14GjZ_IarygbEoxh5KXQvUNwrzvUtcbvIXZ0sbKdFAA=s64",
      "userId": "09951197489881515608"
     },
     "user_tz": 300
    },
    "id": "BnWL2-j8XPS8",
    "outputId": "c83b4f9e-caab-4012-c646-71eadb94ee00"
   },
   "outputs": [
    {
     "name": "stderr",
     "output_type": "stream",
     "text": [
      "/usr/local/lib/python3.7/dist-packages/ipykernel_launcher.py:10: RuntimeWarning: invalid value encountered in true_divide\n",
      "  # Remove the CWD from sys.path while we load stuff.\n",
      "/usr/local/lib/python3.7/dist-packages/scipy/stats/stats.py:3508: PearsonRConstantInputWarning: An input array is constant; the correlation coefficent is not defined.\n",
      "  warnings.warn(PearsonRConstantInputWarning())\n"
     ]
    }
   ],
   "source": [
    "from scipy.stats import pearsonr\n",
    "corr = []\n",
    "indx = [119, 145, 232]\n",
    "names = [\"PWM_1\", \"PWM_2\", \"PWM_3\"]\n",
    "PWM_np = np.nan_to_num(PWM_np).flatten()\n",
    "\n",
    "dic = {\"CTCF\" : PWM_np}\n",
    "t = 0\n",
    "for i in range(300) :\n",
    "  X = count_new[i]/count_new[i].sum(axis=0,keepdims=1)\n",
    "  X = np.nan_to_num(X).flatten()\n",
    "  correlation, p_value = pearsonr(PWM_np, X)\n",
    "  correlation = np.nan_to_num(correlation)\n",
    "  corr.append(correlation)\n",
    "  if i in indx :\n",
    "    dic[names[t]] = X\n",
    "    t += 1"
   ]
  },
  {
   "cell_type": "code",
   "execution_count": 143,
   "metadata": {
    "colab": {
     "base_uri": "https://localhost:8080/"
    },
    "executionInfo": {
     "elapsed": 160,
     "status": "ok",
     "timestamp": 1646271336469,
     "user": {
      "displayName": "Saad Benslimane",
      "photoUrl": "https://lh3.googleusercontent.com/a-/AOh14GjZ_IarygbEoxh5KXQvUNwrzvUtcbvIXZ0sbKdFAA=s64",
      "userId": "09951197489881515608"
     },
     "user_tz": 300
    },
    "id": "zMIA8S7kYn2g",
    "outputId": "a7ddaa07-a035-4906-8ab1-16fe0cc28707"
   },
   "outputs": [
    {
     "data": {
      "text/plain": [
       "{'CTCF': array([0.09529025, 0.18291347, 0.30777656, 0.06133625, 0.00876232,\n",
       "        0.81489595, 0.04381161, 0.11732456, 0.93311404, 0.00548847,\n",
       "        0.36553238, 0.05927552, 0.01318681, 0.06153846, 0.11441144,\n",
       "        0.40924092, 0.09030837, 0.12885463, 0.44273128, 0.31872946,\n",
       "        0.15881709, 0.05366922, 0.8762322 , 0.9890471 , 0.01423877,\n",
       "        0.57831325, 0.4747807 , 0.0120614 , 0.        , 0.00329308,\n",
       "        0.01317234, 0.        , 0.00879121, 0.80638064, 0.01430143,\n",
       "        0.530837  , 0.35462555, 0.19933921, 0.08324206, 0.45345016,\n",
       "        0.49178532, 0.0230011 , 0.        , 0.07119387, 0.36582694,\n",
       "        0.05263158, 0.03508772, 0.99121844, 0.62129528, 0.5532382 ,\n",
       "        0.97802198, 0.85164835, 0.00550055, 0.55775578, 0.33810573,\n",
       "        0.08039648, 0.29295154, 0.50273823, 0.20481928, 0.14676889,\n",
       "        0.03943045, 0.00219058, 0.09967141, 0.01204819, 0.35526316,\n",
       "        0.01973684, 0.00329308, 0.00987925, 0.37431394, 0.00879121,\n",
       "        0.07802198, 0.07370737, 0.01870187, 0.0407489 , 0.43612335,\n",
       "        0.06497797]),\n",
       " 'PWM_1': array([0.  , 0.  , 0.5 , 0.  , 0.  , 0.25, 0.  , 0.  , 0.75, 0.  , 0.  ,\n",
       "        0.  , 0.25, 0.5 , 0.25, 0.  , 0.  , 0.  , 0.5 , 0.5 , 0.25, 0.  ,\n",
       "        0.5 , 0.75, 0.  , 1.  , 0.75, 0.25, 0.  , 0.25, 0.  , 0.  , 0.25,\n",
       "        0.25, 0.  , 0.  , 0.25, 0.25, 0.25, 0.25, 0.25, 0.5 , 0.25, 0.5 ,\n",
       "        0.  , 0.  , 0.  , 0.75, 0.75, 0.25, 0.75, 0.25, 0.5 , 1.  , 0.75,\n",
       "        0.5 , 0.  , 0.25, 0.5 , 0.25, 0.  , 0.  , 0.25, 0.  , 0.25, 0.  ,\n",
       "        0.25, 0.  , 0.75, 0.  , 0.  , 0.  , 0.  , 0.25, 0.25, 0.25]),\n",
       " 'PWM_2': array([0.2, 0.4, 0.4, 0.2, 0. , 1. , 0.2, 0. , 0.8, 0.2, 0.4, 0.4, 0. ,\n",
       "        0. , 0. , 0.4, 0.2, 0.2, 0. , 0.6, 0.6, 0. , 0.6, 1. , 0. , 0.4,\n",
       "        0.6, 0. , 0.2, 0.2, 0.2, 0.2, 0. , 0.6, 0.2, 0. , 0.6, 0.6, 0. ,\n",
       "        0. , 0.2, 0. , 0. , 0. , 0.4, 0.4, 0. , 0.6, 0.4, 0.4, 0.8, 1. ,\n",
       "        0. , 0.2, 0.2, 0.2, 0. , 0.2, 0. , 0.4, 0.2, 0. , 0. , 0. , 0. ,\n",
       "        0.2, 0. , 0. , 0. , 0. , 0. , 0.4, 0.2, 0.6, 0. , 0.4]),\n",
       " 'PWM_3': array([0.66666667, 0.66666667, 0.33333333, 0.        , 0.        ,\n",
       "        1.        , 0.        , 0.66666667, 1.        , 0.33333333,\n",
       "        0.66666667, 0.66666667, 0.        , 0.33333333, 0.33333333,\n",
       "        0.33333333, 0.        , 0.33333333, 0.        , 0.        ,\n",
       "        0.        , 0.33333333, 0.66666667, 1.        , 0.        ,\n",
       "        1.        , 0.33333333, 0.        , 0.        , 0.        ,\n",
       "        0.        , 0.        , 0.        , 0.        , 0.        ,\n",
       "        0.66666667, 0.33333333, 0.33333333, 0.33333333, 0.        ,\n",
       "        0.33333333, 0.        , 0.        , 0.        , 0.        ,\n",
       "        0.        , 0.        , 0.33333333, 0.33333333, 0.        ,\n",
       "        1.        , 0.33333333, 0.        , 0.66666667, 0.33333333,\n",
       "        0.        , 0.66666667, 0.        , 0.33333333, 0.        ,\n",
       "        0.33333333, 0.        , 0.        , 0.        , 0.        ,\n",
       "        0.        , 0.33333333, 0.        , 0.33333333, 0.        ,\n",
       "        0.33333333, 0.66666667, 0.        , 0.        , 0.33333333,\n",
       "        0.        ])}"
      ]
     },
     "execution_count": 143,
     "metadata": {},
     "output_type": "execute_result"
    }
   ],
   "source": [
    "dic"
   ]
  },
  {
   "cell_type": "code",
   "execution_count": 144,
   "metadata": {
    "executionInfo": {
     "elapsed": 154,
     "status": "ok",
     "timestamp": 1646271337497,
     "user": {
      "displayName": "Saad Benslimane",
      "photoUrl": "https://lh3.googleusercontent.com/a-/AOh14GjZ_IarygbEoxh5KXQvUNwrzvUtcbvIXZ0sbKdFAA=s64",
      "userId": "09951197489881515608"
     },
     "user_tz": 300
    },
    "id": "YkNDubvzZboG"
   },
   "outputs": [],
   "source": [
    "df = pd.DataFrame(dic)"
   ]
  },
  {
   "cell_type": "code",
   "execution_count": 145,
   "metadata": {
    "colab": {
     "base_uri": "https://localhost:8080/",
     "height": 423
    },
    "executionInfo": {
     "elapsed": 213,
     "status": "ok",
     "timestamp": 1646271338114,
     "user": {
      "displayName": "Saad Benslimane",
      "photoUrl": "https://lh3.googleusercontent.com/a-/AOh14GjZ_IarygbEoxh5KXQvUNwrzvUtcbvIXZ0sbKdFAA=s64",
      "userId": "09951197489881515608"
     },
     "user_tz": 300
    },
    "id": "VHkBaGFHZdUL",
    "outputId": "22269b35-e22e-4bfe-dfcf-a8c17d97f3be"
   },
   "outputs": [
    {
     "data": {
      "text/html": [
       "\n",
       "  <div id=\"df-45525bf7-ee7f-4f65-a975-54dd17151387\">\n",
       "    <div class=\"colab-df-container\">\n",
       "      <div>\n",
       "<style scoped>\n",
       "    .dataframe tbody tr th:only-of-type {\n",
       "        vertical-align: middle;\n",
       "    }\n",
       "\n",
       "    .dataframe tbody tr th {\n",
       "        vertical-align: top;\n",
       "    }\n",
       "\n",
       "    .dataframe thead th {\n",
       "        text-align: right;\n",
       "    }\n",
       "</style>\n",
       "<table border=\"1\" class=\"dataframe\">\n",
       "  <thead>\n",
       "    <tr style=\"text-align: right;\">\n",
       "      <th></th>\n",
       "      <th>CTCF</th>\n",
       "      <th>PWM_1</th>\n",
       "      <th>PWM_2</th>\n",
       "      <th>PWM_3</th>\n",
       "    </tr>\n",
       "  </thead>\n",
       "  <tbody>\n",
       "    <tr>\n",
       "      <th>0</th>\n",
       "      <td>0.095290</td>\n",
       "      <td>0.00</td>\n",
       "      <td>0.2</td>\n",
       "      <td>0.666667</td>\n",
       "    </tr>\n",
       "    <tr>\n",
       "      <th>1</th>\n",
       "      <td>0.182913</td>\n",
       "      <td>0.00</td>\n",
       "      <td>0.4</td>\n",
       "      <td>0.666667</td>\n",
       "    </tr>\n",
       "    <tr>\n",
       "      <th>2</th>\n",
       "      <td>0.307777</td>\n",
       "      <td>0.50</td>\n",
       "      <td>0.4</td>\n",
       "      <td>0.333333</td>\n",
       "    </tr>\n",
       "    <tr>\n",
       "      <th>3</th>\n",
       "      <td>0.061336</td>\n",
       "      <td>0.00</td>\n",
       "      <td>0.2</td>\n",
       "      <td>0.000000</td>\n",
       "    </tr>\n",
       "    <tr>\n",
       "      <th>4</th>\n",
       "      <td>0.008762</td>\n",
       "      <td>0.00</td>\n",
       "      <td>0.0</td>\n",
       "      <td>0.000000</td>\n",
       "    </tr>\n",
       "    <tr>\n",
       "      <th>...</th>\n",
       "      <td>...</td>\n",
       "      <td>...</td>\n",
       "      <td>...</td>\n",
       "      <td>...</td>\n",
       "    </tr>\n",
       "    <tr>\n",
       "      <th>71</th>\n",
       "      <td>0.073707</td>\n",
       "      <td>0.00</td>\n",
       "      <td>0.4</td>\n",
       "      <td>0.666667</td>\n",
       "    </tr>\n",
       "    <tr>\n",
       "      <th>72</th>\n",
       "      <td>0.018702</td>\n",
       "      <td>0.00</td>\n",
       "      <td>0.2</td>\n",
       "      <td>0.000000</td>\n",
       "    </tr>\n",
       "    <tr>\n",
       "      <th>73</th>\n",
       "      <td>0.040749</td>\n",
       "      <td>0.25</td>\n",
       "      <td>0.6</td>\n",
       "      <td>0.000000</td>\n",
       "    </tr>\n",
       "    <tr>\n",
       "      <th>74</th>\n",
       "      <td>0.436123</td>\n",
       "      <td>0.25</td>\n",
       "      <td>0.0</td>\n",
       "      <td>0.333333</td>\n",
       "    </tr>\n",
       "    <tr>\n",
       "      <th>75</th>\n",
       "      <td>0.064978</td>\n",
       "      <td>0.25</td>\n",
       "      <td>0.4</td>\n",
       "      <td>0.000000</td>\n",
       "    </tr>\n",
       "  </tbody>\n",
       "</table>\n",
       "<p>76 rows × 4 columns</p>\n",
       "</div>\n",
       "      <button class=\"colab-df-convert\" onclick=\"convertToInteractive('df-45525bf7-ee7f-4f65-a975-54dd17151387')\"\n",
       "              title=\"Convert this dataframe to an interactive table.\"\n",
       "              style=\"display:none;\">\n",
       "        \n",
       "  <svg xmlns=\"http://www.w3.org/2000/svg\" height=\"24px\"viewBox=\"0 0 24 24\"\n",
       "       width=\"24px\">\n",
       "    <path d=\"M0 0h24v24H0V0z\" fill=\"none\"/>\n",
       "    <path d=\"M18.56 5.44l.94 2.06.94-2.06 2.06-.94-2.06-.94-.94-2.06-.94 2.06-2.06.94zm-11 1L8.5 8.5l.94-2.06 2.06-.94-2.06-.94L8.5 2.5l-.94 2.06-2.06.94zm10 10l.94 2.06.94-2.06 2.06-.94-2.06-.94-.94-2.06-.94 2.06-2.06.94z\"/><path d=\"M17.41 7.96l-1.37-1.37c-.4-.4-.92-.59-1.43-.59-.52 0-1.04.2-1.43.59L10.3 9.45l-7.72 7.72c-.78.78-.78 2.05 0 2.83L4 21.41c.39.39.9.59 1.41.59.51 0 1.02-.2 1.41-.59l7.78-7.78 2.81-2.81c.8-.78.8-2.07 0-2.86zM5.41 20L4 18.59l7.72-7.72 1.47 1.35L5.41 20z\"/>\n",
       "  </svg>\n",
       "      </button>\n",
       "      \n",
       "  <style>\n",
       "    .colab-df-container {\n",
       "      display:flex;\n",
       "      flex-wrap:wrap;\n",
       "      gap: 12px;\n",
       "    }\n",
       "\n",
       "    .colab-df-convert {\n",
       "      background-color: #E8F0FE;\n",
       "      border: none;\n",
       "      border-radius: 50%;\n",
       "      cursor: pointer;\n",
       "      display: none;\n",
       "      fill: #1967D2;\n",
       "      height: 32px;\n",
       "      padding: 0 0 0 0;\n",
       "      width: 32px;\n",
       "    }\n",
       "\n",
       "    .colab-df-convert:hover {\n",
       "      background-color: #E2EBFA;\n",
       "      box-shadow: 0px 1px 2px rgba(60, 64, 67, 0.3), 0px 1px 3px 1px rgba(60, 64, 67, 0.15);\n",
       "      fill: #174EA6;\n",
       "    }\n",
       "\n",
       "    [theme=dark] .colab-df-convert {\n",
       "      background-color: #3B4455;\n",
       "      fill: #D2E3FC;\n",
       "    }\n",
       "\n",
       "    [theme=dark] .colab-df-convert:hover {\n",
       "      background-color: #434B5C;\n",
       "      box-shadow: 0px 1px 3px 1px rgba(0, 0, 0, 0.15);\n",
       "      filter: drop-shadow(0px 1px 2px rgba(0, 0, 0, 0.3));\n",
       "      fill: #FFFFFF;\n",
       "    }\n",
       "  </style>\n",
       "\n",
       "      <script>\n",
       "        const buttonEl =\n",
       "          document.querySelector('#df-45525bf7-ee7f-4f65-a975-54dd17151387 button.colab-df-convert');\n",
       "        buttonEl.style.display =\n",
       "          google.colab.kernel.accessAllowed ? 'block' : 'none';\n",
       "\n",
       "        async function convertToInteractive(key) {\n",
       "          const element = document.querySelector('#df-45525bf7-ee7f-4f65-a975-54dd17151387');\n",
       "          const dataTable =\n",
       "            await google.colab.kernel.invokeFunction('convertToInteractive',\n",
       "                                                     [key], {});\n",
       "          if (!dataTable) return;\n",
       "\n",
       "          const docLinkHtml = 'Like what you see? Visit the ' +\n",
       "            '<a target=\"_blank\" href=https://colab.research.google.com/notebooks/data_table.ipynb>data table notebook</a>'\n",
       "            + ' to learn more about interactive tables.';\n",
       "          element.innerHTML = '';\n",
       "          dataTable['output_type'] = 'display_data';\n",
       "          await google.colab.output.renderOutput(dataTable, element);\n",
       "          const docLink = document.createElement('div');\n",
       "          docLink.innerHTML = docLinkHtml;\n",
       "          element.appendChild(docLink);\n",
       "        }\n",
       "      </script>\n",
       "    </div>\n",
       "  </div>\n",
       "  "
      ],
      "text/plain": [
       "        CTCF  PWM_1  PWM_2     PWM_3\n",
       "0   0.095290   0.00    0.2  0.666667\n",
       "1   0.182913   0.00    0.4  0.666667\n",
       "2   0.307777   0.50    0.4  0.333333\n",
       "3   0.061336   0.00    0.2  0.000000\n",
       "4   0.008762   0.00    0.0  0.000000\n",
       "..       ...    ...    ...       ...\n",
       "71  0.073707   0.00    0.4  0.666667\n",
       "72  0.018702   0.00    0.2  0.000000\n",
       "73  0.040749   0.25    0.6  0.000000\n",
       "74  0.436123   0.25    0.0  0.333333\n",
       "75  0.064978   0.25    0.4  0.000000\n",
       "\n",
       "[76 rows x 4 columns]"
      ]
     },
     "execution_count": 145,
     "metadata": {},
     "output_type": "execute_result"
    }
   ],
   "source": [
    "df"
   ]
  },
  {
   "cell_type": "code",
   "execution_count": 146,
   "metadata": {
    "colab": {
     "base_uri": "https://localhost:8080/",
     "height": 286
    },
    "executionInfo": {
     "elapsed": 244,
     "status": "ok",
     "timestamp": 1646271338838,
     "user": {
      "displayName": "Saad Benslimane",
      "photoUrl": "https://lh3.googleusercontent.com/a-/AOh14GjZ_IarygbEoxh5KXQvUNwrzvUtcbvIXZ0sbKdFAA=s64",
      "userId": "09951197489881515608"
     },
     "user_tz": 300
    },
    "id": "7MNs9LoRZndq",
    "outputId": "f71e4716-ccd6-4ef0-c790-85487024915b"
   },
   "outputs": [
    {
     "data": {
      "text/plain": [
       "<matplotlib.axes._subplots.AxesSubplot at 0x7f417e498190>"
      ]
     },
     "execution_count": 146,
     "metadata": {},
     "output_type": "execute_result"
    },
    {
     "data": {
      "image/png": "[encoded data removed]",
      "text/plain": [
       "<Figure size 432x288 with 2 Axes>"
      ]
     },
     "metadata": {
      "needs_background": "light"
     },
     "output_type": "display_data"
    }
   ],
   "source": [
    "import seaborn as sns\n",
    "%matplotlib inline\n",
    "\n",
    "sns.heatmap(df.corr(), annot=True)"
   ]
  },
  {
   "cell_type": "markdown",
   "metadata": {
    "id": "VrbUwOgqV20R"
   },
   "source": [
    "**A couple of points that may help you with this question**\n",
    "* I've noticed that instances of Google Colab vary significantly in speed (probably the GPU you are assigned). If your code is running very slowly, you can restart it until you get a faster instance.\n",
    "* You are free to change the scoring function when training (I use the same AUC but changed the increments of thresholds from 0.05 to 0.01 and found that the score increased more visibly)."
   ]
  }
 ],
 "metadata": {
  "accelerator": "GPU",
  "colab": {
   "collapsed_sections": [],
   "machine_shape": "hm",
   "name": "main-EN.ipynb",
   "provenance": []
  },
  "kernelspec": {
   "display_name": "Python 3 (ipykernel)",
   "language": "python",
   "name": "python3"
  },
  "language_info": {
   "codemirror_mode": {
    "name": "ipython",
    "version": 3
   },
   "file_extension": ".py",
   "mimetype": "text/x-python",
   "name": "python",
   "nbconvert_exporter": "python",
   "pygments_lexer": "ipython3",
   "version": "3.8.8"
  }
 },
 "nbformat": 4,
 "nbformat_minor": 1
}
