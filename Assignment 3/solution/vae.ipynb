{
 "cells": [
  {
   "cell_type": "markdown",
   "metadata": {
    "colab_type": "text",
    "id": "qC71Qv1-TtI-"
   },
   "source": [
    "\n",
    "Solution template for the question 1.6-1.7. This template consists of following steps. Except the step 2, you don't need to modify it to answer the questions.\n",
    "1.   Initialize libraries\n",
    "2.   **Insert the answers for the questions 1.1~1.5 in q1_solution (this is the part you need to fill)**\n",
    "3.   Define data loaders\n",
    "4.   Define VAE network architecture\n",
    "5.   Initialize the model and optimizer\n",
    "6.   Train the model\n",
    "7.   Save the model\n",
    "8.   Load the model\n",
    "9.   Evaluate the model with importance sampling"
   ]
  },
  {
   "cell_type": "markdown",
   "metadata": {
    "colab_type": "text",
    "id": "mcs7QFvETxQJ"
   },
   "source": [
    "Initialize libraries"
   ]
  },
  {
   "cell_type": "code",
   "execution_count": 3,
   "metadata": {
    "colab": {},
    "colab_type": "code",
    "id": "uLoP5GRpEPbI"
   },
   "outputs": [],
   "source": [
    "import math\n",
    "from torchvision.datasets import utils\n",
    "import torch.utils.data as data_utils\n",
    "import torch\n",
    "import os\n",
    "import numpy as np\n",
    "from torch import nn\n",
    "from torch.nn.modules import upsampling\n",
    "from torch.functional import F\n",
    "from torch.optim import Adam"
   ]
  },
  {
   "cell_type": "markdown",
   "metadata": {
    "colab_type": "text",
    "id": "NTB40neeR6-k"
   },
   "source": [
    "Complete **functions in q1_solution** to answer the questions 1.1~1.5"
   ]
  },
  {
   "cell_type": "code",
   "execution_count": 2,
   "metadata": {
    "colab": {},
    "colab_type": "code",
    "id": "0Kr08AArNlHU"
   },
   "outputs": [],
   "source": [
    "from q1_solution import log_likelihood_bernoulli, log_likelihood_normal, log_mean_exp, kl_gaussian_gaussian_analytic, kl_gaussian_gaussian_mc"
   ]
  },
  {
   "cell_type": "markdown",
   "metadata": {
    "colab_type": "text",
    "id": "r3v_ld3ITRFl"
   },
   "source": [
    "Define data loaders"
   ]
  },
  {
   "cell_type": "code",
   "execution_count": 3,
   "metadata": {
    "colab": {},
    "colab_type": "code",
    "id": "oiK4L0TdETNb"
   },
   "outputs": [],
   "source": [
    "def get_data_loader(dataset_location, batch_size):\n",
    "    URL = \"http://www.cs.toronto.edu/~larocheh/public/datasets/binarized_mnist/\"\n",
    "    # start processing\n",
    "    def lines_to_np_array(lines):\n",
    "        return np.array([[int(i) for i in line.split()] for line in lines])\n",
    "    splitdata = []\n",
    "    for splitname in [\"train\", \"valid\", \"test\"]:\n",
    "        filename = \"binarized_mnist_%s.amat\" % splitname\n",
    "        filepath = os.path.join(dataset_location, filename)\n",
    "        utils.download_url(URL + filename, dataset_location)\n",
    "        with open(filepath) as f:\n",
    "            lines = f.readlines()\n",
    "        x = lines_to_np_array(lines).astype('float32')\n",
    "        x = x.reshape(x.shape[0], 1, 28, 28)\n",
    "        # pytorch data loader\n",
    "        dataset = data_utils.TensorDataset(torch.from_numpy(x))\n",
    "        dataset_loader = data_utils.DataLoader(x, batch_size=batch_size, shuffle=splitname == \"train\")\n",
    "        splitdata.append(dataset_loader)\n",
    "    return splitdata"
   ]
  },
  {
   "cell_type": "code",
   "execution_count": 4,
   "metadata": {
    "colab": {},
    "colab_type": "code",
    "id": "TZsL1gLLEVJM"
   },
   "outputs": [
    {
     "name": "stdout",
     "output_type": "stream",
     "text": [
      "Using downloaded and verified file: binarized_mnist\\binarized_mnist_train.amat\n",
      "Using downloaded and verified file: binarized_mnist\\binarized_mnist_valid.amat\n",
      "Using downloaded and verified file: binarized_mnist\\binarized_mnist_test.amat\n"
     ]
    }
   ],
   "source": [
    "train, valid, test = get_data_loader(\"binarized_mnist\", 64)"
   ]
  },
  {
   "cell_type": "markdown",
   "metadata": {
    "colab_type": "text",
    "id": "8PoFxey7TUFS"
   },
   "source": [
    "Define VAE network architecture\n"
   ]
  },
  {
   "cell_type": "code",
   "execution_count": 17,
   "metadata": {
    "colab": {},
    "colab_type": "code",
    "id": "POBmU6UCEb4l"
   },
   "outputs": [],
   "source": [
    "class Encoder(nn.Module):\n",
    "    def __init__(self, latent_size):\n",
    "        super(Encoder, self).__init__()\n",
    "        self.mlp = nn.Sequential(\n",
    "            nn.Linear(784, 300),\n",
    "            nn.ELU(),\n",
    "            nn.Linear(300, 300),\n",
    "            nn.ELU(),\n",
    "            nn.Linear(300, 2 * latent_size),\n",
    "        )\n",
    "\n",
    "    def forward(self, x):\n",
    "        batch_size = x.size(0)\n",
    "        z_mean, z_logvar = self.mlp(x.view(batch_size, 784)).chunk(2, dim=-1)\n",
    "        return z_mean, z_logvar\n",
    "\n",
    "class Decoder(nn.Module):\n",
    "    def __init__(self, latent_size):\n",
    "        super(Decoder, self).__init__()\n",
    "        self.mlp = nn.Sequential(\n",
    "            nn.Linear(latent_size, 300),\n",
    "            nn.ELU(),\n",
    "            nn.Linear(300, 300),\n",
    "            nn.ELU(),\n",
    "            nn.Linear(300, 784),\n",
    "        )\n",
    "        \n",
    "    def forward(self, z):\n",
    "        return self.mlp(z) - 5.\n",
    "\n",
    "class VAE(nn.Module):\n",
    "    def __init__(self, latent_size):\n",
    "        super(VAE, self).__init__()\n",
    "        self.encode = Encoder(latent_size)\n",
    "        self.decode = Decoder(latent_size)\n",
    "\n",
    "    def forward(self, x):\n",
    "        z_mean, z_logvar = self.encode(x)\n",
    "        z_sample = z_mean + torch.exp(z_logvar / 2.) * torch.randn_like(z_logvar)\n",
    "        x_mean = self.decode(z_sample)\n",
    "        return z_mean, z_logvar, x_mean\n",
    "\n",
    "    def loss(self, x, z_mean, z_logvar, x_mean):\n",
    "        ZERO = torch.zeros(z_mean.size())\n",
    "        kl = kl_gaussian_gaussian_mc(z_mean, z_logvar, ZERO, ZERO, num_samples=1000).mean()\n",
    "        #kl = kl_gaussian_gaussian_analytic(z_mean, z_logvar, ZERO, ZERO).mean()\n",
    "        recon_loss = -log_likelihood_bernoulli(\n",
    "            torch.sigmoid(x_mean.view(x.size(0), -1)),\n",
    "            x.view(x.size(0), -1),            \n",
    "        ).mean()\n",
    "        return recon_loss + kl"
   ]
  },
  {
   "cell_type": "markdown",
   "metadata": {
    "colab_type": "text",
    "id": "Phg07ERvTYuh"
   },
   "source": [
    "Initialize a model and optimizer"
   ]
  },
  {
   "cell_type": "code",
   "execution_count": 18,
   "metadata": {
    "colab": {
     "base_uri": "https://localhost:8080/",
     "height": 357
    },
    "colab_type": "code",
    "id": "xTxgDwZfEesO",
    "outputId": "4d0db765-9306-4b84-e66b-fe8403567623"
   },
   "outputs": [
    {
     "name": "stdout",
     "output_type": "stream",
     "text": [
      "VAE(\n",
      "  (encode): Encoder(\n",
      "    (mlp): Sequential(\n",
      "      (0): Linear(in_features=784, out_features=300, bias=True)\n",
      "      (1): ELU(alpha=1.0)\n",
      "      (2): Linear(in_features=300, out_features=300, bias=True)\n",
      "      (3): ELU(alpha=1.0)\n",
      "      (4): Linear(in_features=300, out_features=200, bias=True)\n",
      "    )\n",
      "  )\n",
      "  (decode): Decoder(\n",
      "    (mlp): Sequential(\n",
      "      (0): Linear(in_features=100, out_features=300, bias=True)\n",
      "      (1): ELU(alpha=1.0)\n",
      "      (2): Linear(in_features=300, out_features=300, bias=True)\n",
      "      (3): ELU(alpha=1.0)\n",
      "      (4): Linear(in_features=300, out_features=784, bias=True)\n",
      "    )\n",
      "  )\n",
      ")\n"
     ]
    }
   ],
   "source": [
    "vae = VAE(100)\n",
    "params = vae.parameters()\n",
    "optimizer = Adam(params, lr=3e-4)\n",
    "print(vae)"
   ]
  },
  {
   "cell_type": "markdown",
   "metadata": {
    "colab_type": "text",
    "id": "Oqw9SI7aTdtG"
   },
   "source": [
    "Train the model"
   ]
  },
  {
   "cell_type": "code",
   "execution_count": 19,
   "metadata": {
    "colab": {},
    "colab_type": "code",
    "id": "SWtQakAOEhxN"
   },
   "outputs": [
    {
     "name": "stdout",
     "output_type": "stream",
     "text": [
      "-elbo:  128.80972290039062\n",
      "-elbo:  98.43050384521484\n",
      "-elbo:  82.27193450927734\n",
      "-elbo:  75.45198059082031\n",
      "-elbo:  69.89994049072266\n",
      "-elbo:  66.53399658203125\n",
      "-elbo:  63.70643615722656\n",
      "-elbo:  61.28762435913086\n",
      "-elbo:  59.347354888916016\n",
      "-elbo:  57.42560577392578\n",
      "-elbo:  56.14753723144531\n",
      "-elbo:  54.7750244140625\n",
      "-elbo:  53.66975784301758\n",
      "-elbo:  52.496456146240234\n",
      "-elbo:  51.746116638183594\n",
      "-elbo:  50.47117614746094\n",
      "-elbo:  49.736473083496094\n",
      "-elbo:  49.141422271728516\n",
      "-elbo:  48.192081451416016\n",
      "-elbo:  47.62504196166992\n"
     ]
    }
   ],
   "source": [
    "ELBO = []\n",
    "\n",
    "for i in range(20):\n",
    "    # train\n",
    "    for x in train:\n",
    "        optimizer.zero_grad()\n",
    "        z_mean, z_logvar, x_mean = vae(x)\n",
    "        loss = vae.loss(x, z_mean, z_logvar, x_mean)\n",
    "        loss.backward()\n",
    "        optimizer.step()\n",
    "\n",
    "    # evaluate ELBO on the valid dataset\n",
    "    with torch.no_grad():\n",
    "        total_loss = 0.\n",
    "        total_count = 0\n",
    "        for x in valid:\n",
    "            total_loss += vae.loss(x, *vae(x)) * x.size(0)\n",
    "            total_count += x.size(0)\n",
    "        print('-elbo: ', (total_loss / total_count).item())\n",
    "        ELBO.append((total_loss / total_count).item())"
   ]
  },
  {
   "cell_type": "code",
   "execution_count": 8,
   "metadata": {},
   "outputs": [],
   "source": [
    "ELBO_analytic = ELBO"
   ]
  },
  {
   "cell_type": "code",
   "execution_count": 20,
   "metadata": {},
   "outputs": [],
   "source": [
    "ELBO_mc = ELBO"
   ]
  },
  {
   "cell_type": "code",
   "execution_count": 21,
   "metadata": {},
   "outputs": [],
   "source": [
    "import pandas as pd\n",
    "\n",
    "df = pd.DataFrame(ELBO_analytic, ELBO_mc)"
   ]
  },
  {
   "cell_type": "code",
   "execution_count": 22,
   "metadata": {},
   "outputs": [],
   "source": [
    "df.to_csv(\"ELBO.csv\")"
   ]
  },
  {
   "cell_type": "markdown",
   "metadata": {
    "colab_type": "text",
    "id": "HXp5vuhDTg1J"
   },
   "source": [
    "Save the model"
   ]
  },
  {
   "cell_type": "code",
   "execution_count": 23,
   "metadata": {
    "colab": {},
    "colab_type": "code",
    "id": "JYfmW5TAElEO"
   },
   "outputs": [],
   "source": [
    "torch.save(vae, 'model_1.pt')"
   ]
  },
  {
   "cell_type": "markdown",
   "metadata": {
    "colab_type": "text",
    "id": "8Iz6QX_KTizK"
   },
   "source": [
    "Load the model"
   ]
  },
  {
   "cell_type": "code",
   "execution_count": 24,
   "metadata": {
    "colab": {},
    "colab_type": "code",
    "id": "Hqcb8BrmEnMh"
   },
   "outputs": [],
   "source": [
    "vae = torch.load('model_1.pt')"
   ]
  },
  {
   "cell_type": "markdown",
   "metadata": {
    "colab_type": "text",
    "id": "OTpoVRncTmSR"
   },
   "source": [
    "Evaluate the $\\log p_\\theta(x)$ of the model on test by using importance sampling"
   ]
  },
  {
   "cell_type": "code",
   "execution_count": 25,
   "metadata": {
    "colab": {},
    "colab_type": "code",
    "id": "tc2q6dxgEsIh"
   },
   "outputs": [
    {
     "name": "stdout",
     "output_type": "stream",
     "text": [
      "log p(x): -292.06951904296875\n"
     ]
    }
   ],
   "source": [
    "total_loss = 0.\n",
    "total_count = 0\n",
    "with torch.no_grad():\n",
    "    #x = next(iter(test))\n",
    "    for x in test:\n",
    "        # init\n",
    "        K = 200\n",
    "        M = x.size(0)\n",
    "\n",
    "        # Sample from the posterior\n",
    "        z_mean, z_logvar = vae.encode(x)\n",
    "        eps = torch.randn(z_mean.size(0), K, z_mean.size(1))\n",
    "        z_samples = z_mean[:, None, :] + torch.exp(z_logvar / 2.)[:, None, :] * eps # Broadcast the noise over the mean and variance\n",
    "\n",
    "        # Decode samples\n",
    "        z_samples_flat = z_samples.view(-1, z_samples.size(-1)) # Flatten out the z samples\n",
    "        x_mean_flat = vae.decode(z_samples_flat) # Push it through\n",
    "\n",
    "        # Reshape images and posterior to evaluate probabilities\n",
    "        x_flat = x[:, None].repeat(1, K, 1, 1, 1).reshape(M*K, -1)\n",
    "        z_mean_flat = z_mean[:, None, :].expand_as(z_samples).reshape(M*K, -1)\n",
    "        z_logvar_flat =  z_logvar[:, None, :].expand_as(z_samples).reshape(M*K, -1)\n",
    "        ZEROS = torch.zeros(z_mean_flat.size())\n",
    "\n",
    "        # Calculate all the probabilities!\n",
    "        log_p_x_z = log_likelihood_bernoulli(torch.sigmoid(x_mean_flat), x_flat).view(M, K)\n",
    "        log_q_z_x = log_likelihood_normal(z_mean_flat, z_logvar_flat, z_samples_flat).view(M, K)\n",
    "        log_p_z = log_likelihood_normal(ZEROS, ZEROS, z_samples_flat).view(M, K)\n",
    "\n",
    "        # Recombine them.\n",
    "        w = log_p_x_z + log_p_z - log_q_z_x\n",
    "        log_p = log_mean_exp(w)\n",
    "\n",
    "        # Accumulate\n",
    "        total_loss += log_p.sum()\n",
    "        total_count += M\n",
    "\n",
    "print('log p(x):', (total_loss / total_count).item())"
   ]
  },
  {
   "cell_type": "code",
   "execution_count": null,
   "metadata": {},
   "outputs": [],
   "source": [
    "log_1 = -95.64202880859375\n",
    "log_2 = -292.06951904296875"
   ]
  },
  {
   "cell_type": "code",
   "execution_count": 1,
   "metadata": {},
   "outputs": [],
   "source": [
    "import pandas as pd\n",
    "\n",
    "df = pd.read_csv(\"ELBO.csv\")"
   ]
  },
  {
   "cell_type": "code",
   "execution_count": 6,
   "metadata": {},
   "outputs": [
    {
     "data": {
      "text/plain": [
       "<matplotlib.legend.Legend at 0x15c45f54bb0>"
      ]
     },
     "execution_count": 6,
     "metadata": {},
     "output_type": "execute_result"
    },
    {
     "data": {
      "image/png": "[encoded data removed]",
      "text/plain": [
       "<Figure size 1080x576 with 1 Axes>"
      ]
     },
     "metadata": {},
     "output_type": "display_data"
    }
   ],
   "source": [
    "import matplotlib.pyplot as plt\n",
    "\n",
    "f,ax = plt.subplots(figsize = (15, 8))\n",
    "plt.style.use('ggplot')\n",
    "plt.plot(range(20), df[\"Unnamed: 0\"], color=\"red\", label=\"KL Gaussian MC\", linewidth=1.8)\n",
    "plt.plot(range(20), df[\"0\"], color=\"blue\", label=\"KL Gaussian Analytic\", linewidth=1.8)\n",
    "plt.title(\"ELBO against training epochs\", fontsize = 20)\n",
    "plt.xlabel(\"Epochs\", fontsize=20)\n",
    "plt.ylabel(\"ELBO\", fontsize=20)\n",
    "plt.xticks(np.arange(min(range(20)), max(range(20))+1, 1.0))\n",
    "plt.legend()"
   ]
  },
  {
   "cell_type": "code",
   "execution_count": null,
   "metadata": {},
   "outputs": [],
   "source": []
  }
 ],
 "metadata": {
  "accelerator": "GPU",
  "colab": {
   "collapsed_sections": [],
   "name": "vae_template.ipynb",
   "provenance": []
  },
  "kernelspec": {
   "display_name": "Python 3 (ipykernel)",
   "language": "python",
   "name": "python3"
  },
  "language_info": {
   "codemirror_mode": {
    "name": "ipython",
    "version": 3
   },
   "file_extension": ".py",
   "mimetype": "text/x-python",
   "name": "python",
   "nbconvert_exporter": "python",
   "pygments_lexer": "ipython3",
   "version": "3.8.8"
  }
 },
 "nbformat": 4,
 "nbformat_minor": 1
}
